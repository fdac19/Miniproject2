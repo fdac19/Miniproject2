{
 "cells": [
  {
   "cell_type": "code",
   "execution_count": null,
   "metadata": {},
   "outputs": [],
   "source": []
  },
  {
   "cell_type": "code",
   "execution_count": 2,
   "metadata": {},
   "outputs": [
    {
     "data": {
      "text/plain": [
       "<pymongo.results.InsertOneResult at 0x7f83ee5baa48>"
      ]
     },
     "execution_count": 2,
     "metadata": {},
     "output_type": "execute_result"
    }
   ],
   "source": [
    "import pprint\n",
    "import re\n",
    "import pymongo, json\n",
    "\n",
    "pp = pprint.PrettyPrinter(indent=1,width=65)\n",
    "\n",
    "client = pymongo.MongoClient (host=\"da1.eecs.utk.edu\")\n",
    "db = client ['fdac19mp2']\n",
    "coll = db ['vzenkov']\n",
    "# for each dataset\n",
    "coll.insert_one ( { 'topic':'git URLs', 'first dataset': 'largest projects', 'license': 'NA', 'description': 'The list of projects on github with the largest number of starts', 'urls': [ 'url1', 'url2' ] } )\n"
   ]
  },
  {
   "cell_type": "code",
   "execution_count": 3,
   "metadata": {},
   "outputs": [
    {
     "name": "stdout",
     "output_type": "stream",
     "text": [
      "{'_id': ObjectId('5d84e5493076d92792071a00'),\n",
      " 'description': 'The list of projects on github with the '\n",
      "                'largest number of starts',\n",
      " 'first dataset': 'largest projects',\n",
      " 'license': 'NA',\n",
      " 'topic': 'git URLs',\n",
      " 'urls': ['url1', 'url2']}\n"
     ]
    }
   ],
   "source": [
    "import pprint\n",
    "import pymongo, json\n",
    "client = pymongo.MongoClient (host=\"da1.eecs.utk.edu\")\n",
    "db = client ['fdac19mp2']\n",
    "coll = db ['vzenkov']\n",
    "pp = pprint.PrettyPrinter(indent=1,width=65)\n",
    "for r in coll. find():\n",
    "  print(pp .pformat (r))  "
   ]
  },
  {
   "cell_type": "code",
   "execution_count": null,
   "metadata": {
    "collapsed": true
   },
   "outputs": [],
   "source": []
  }
 ],
 "metadata": {
  "kernelspec": {
   "display_name": "Python 3",
   "language": "python",
   "name": "python3"
  },
  "language_info": {
   "codemirror_mode": {
    "name": "ipython",
    "version": 3
   },
   "file_extension": ".py",
   "mimetype": "text/x-python",
   "name": "python",
   "nbconvert_exporter": "python",
   "pygments_lexer": "ipython3",
   "version": "3.6.7"
  }
 },
 "nbformat": 4,
 "nbformat_minor": 1
}
