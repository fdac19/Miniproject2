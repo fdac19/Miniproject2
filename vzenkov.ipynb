{
 "cells": [
  {
   "cell_type": "code",
   "execution_count": 2,
   "metadata": {},
   "outputs": [
    {
     "data": {
      "text/plain": [
       "<pymongo.results.InsertOneResult at 0x7f83ee5baa48>"
      ]
     },
     "execution_count": 2,
     "metadata": {},
     "output_type": "execute_result"
    }
   ],
   "source": [
    "import pprint\n",
    "import re\n",
    "import pymongo, json\n",
    "\n",
    "pp = pprint.PrettyPrinter(indent=1,width=65)\n",
    "\n",
    "client = pymongo.MongoClient (host=\"da1.eecs.utk.edu\")\n",
    "db = client ['fdac19mp2']\n",
    "coll = db ['vzenkov']\n",
    "# for each dataset\n",
    "coll.insert_one ( { 'topic':'git URLs', 'first dataset': 'largest projects', 'license': 'NA', 'description': 'The list of projects on github with the largest number of starts', 'urls': [ 'url1', 'url2' ] } )\n"
   ]
  },
  {
   "cell_type": "code",
   "execution_count": 2,
   "metadata": {},
   "outputs": [
    {
     "data": {
      "text/plain": [
       "<pymongo.results.InsertOneResult at 0x7f46f4ca9808>"
      ]
     },
     "execution_count": 2,
     "metadata": {},
     "output_type": "execute_result"
    }
   ],
   "source": [
    "coll.insert_one ( { 'topic':'test', 'first dataset': 'largest projects', 'license': 'NA', 'description': 'Test', 'urls': [ 'url1', 'url2' ] } )"
   ]
  },
  {
   "cell_type": "code",
   "execution_count": 13,
   "metadata": {},
   "outputs": [
    {
     "data": {
      "text/plain": [
       "<pymongo.results.DeleteResult at 0x7f46f4ca9e08>"
      ]
     },
     "execution_count": 13,
     "metadata": {},
     "output_type": "execute_result"
    }
   ],
   "source": [
    "coll.delete_one({'first dataset': 'largest projects'})"
   ]
  },
  {
   "cell_type": "code",
   "execution_count": 4,
   "metadata": {},
   "outputs": [
    {
     "data": {
      "text/plain": [
       "<pymongo.results.InsertOneResult at 0x7fd38c58cf48>"
      ]
     },
     "execution_count": 4,
     "metadata": {},
     "output_type": "execute_result"
    }
   ],
   "source": [
    "coll.insert_one ( { 'topic':'blockchain', 'title': 'Coinbase Exchange Bitcoin Data', 'license': 'This data is offered for free under the Creative Commons Attribution-NonCommercial-ShareAlike 4.0 International License.', 'description': 'daily bitcoin data from the Coinbase exchange', 'urls': [ 'https://www.cryptodatadownload.com/cdd/Coinbase_BTCUSD_d.csv' ] } )\n",
    "coll.insert_one ( { 'topic':'blockchain', 'title': 'Kraken Exchange Bitcoin Data', 'license': 'This data is offered for free under the Creative Commons Attribution-NonCommercial-ShareAlike 4.0 International License.', 'description': 'daily bitcoin data from the Kraken exchange', 'urls': [ 'https://www.cryptodatadownload.com/cdd/Kraken_BTCUSD_d.csv' ] } )\n",
    "coll.insert_one ( { 'topic':'blockchain', 'title': 'Bitstamp Exchange Bitcoin Data', 'license': 'This data is offered for free under the Creative Commons Attribution-NonCommercial-ShareAlike 4.0 International License.', 'description': 'daily bitcoin data from the Bitstamp exchange', 'urls': [ 'https://www.cryptodatadownload.com/cdd/Bitstamp_BTCUSD_d.csv' ] } )\n",
    "coll.insert_one ( { 'topic':'blockchain', 'title': 'Gemini Exchange Bitcoin Data', 'license': 'This data is offered for free under the Creative Commons Attribution-NonCommercial-ShareAlike 4.0 International License.', 'description': 'daily bitcoin data from the Gemini exchange', 'urls': [ 'https://www.cryptodatadownload.com/cdd/Gemini_BTCUSD_d.csv' ] } )\n",
    "coll.insert_one ( { 'topic':'blockchain', 'title': 'Bitcoin End of Day Data', 'license': 'Subject to your compliance with these Terms, CoinIntraday grants you a limited, non-exclusive, non-transferable, non-sublicensable license to view, display, stream, and download the Content solely in connection with your permitted use of the Services and solely for your personal and non-commercial purposes.', 'description': 'daily end of day data for bitcoin', 'urls': [ 'http://www.coinintraday.com/data/eod/Bitcoin.csv?' ] } )\n",
    "coll.insert_one ( { 'topic':'blockchain', 'title': 'Ethereum End of Day Data', 'license': 'Subject to your compliance with these Terms, CoinIntraday grants you a limited, non-exclusive, non-transferable, non-sublicensable license to view, display, stream, and download the Content solely in connection with your permitted use of the Services and solely for your personal and non-commercial purposes.', 'description': 'daily end of day data for ethereum', 'urls': [ 'http://www.coinintraday.com/data/eod/Ethereum.csv?' ] } )\n",
    "coll.insert_one ( { 'topic':'blockchain', 'title': 'Bitcoin Historical Data', 'license': 'CC BY-SA 4.0', 'description': 'bitcoin data at 1-minute intervals from various exchanges', 'urls': [ 'https://www.kaggle.com/mczielinski/bitcoin-historical-data' ] } )\n",
    "coll.insert_one ( { 'topic':'blockchain', 'title': 'Complete Bitcoin Blockchain Data', 'license': 'CC0: Public Domain', 'description': 'complete live historical bitcoin blockchain data query', 'urls': [ 'https://www.kaggle.com/bigquery/bitcoin-blockchain' ] } )\n",
    "coll.insert_one ( { 'topic':'blockchain', 'title': 'Complete Ethereum Blockchain Data', 'license': 'CC0: Public Domain', 'description': 'complete live historical ethereum blockchain data query', 'urls': [ 'https://www.kaggle.com/bigquery/ethereum-blockchain' ] } )\n",
    "coll.insert_one ( { 'topic':'blockchain', 'title': 'Elliptic Data Set', 'license': 'Attribution-NonCommercial-NoDerivatives 4.0 International (CC BY-NC-ND 4.0)', 'description': 'licit vs illicit bitcoin transactions database', 'urls': [ 'https://www.kaggle.com/ellipticco/elliptic-data-set' ] } )\n",
    "coll.insert_one ( { 'topic':'blockchain', 'title': '400+ crypto currency pairs at 1-minute resolution', 'license': 'CC BY-SA 4.0', 'description': 'historical crypto currency data from the exchange Bitfinex', 'urls': [ 'https://www.kaggle.com/tencars/392-crypto-currency-pairs-at-minute-resolution' ] } )\n",
    "coll.insert_one ( { 'topic':'blockchain', 'title': 'Coin Metrics', 'license': 'Creative Commons Attribution-NonCommercial 4.0 International (CC BY-NC 4.0) License', 'description': 'historical community data for bitcoin', 'urls': [ 'https://coinmetrics.io/newdata/btc.csv' ] } )\n",
    "coll.insert_one ( { 'topic':'blockchain', 'title': 'Coin Metrics', 'license': 'Creative Commons Attribution-NonCommercial 4.0 International (CC BY-NC 4.0) License', 'description': 'historical community data for etherium', 'urls': [ 'https://coinmetrics.io/newdata/eth.csv' ] } )\n",
    "coll.insert_one ( { 'topic':'blockchain', 'title': 'Cryptokitties CSV Generator', 'license': 'License information not provided', 'description': 'generates a dataset of all cryptokitties data', 'urls': [ 'https://github.com/brianmcmichael/cryptokitties-csv-generator' ] } )\n",
    "coll.insert_one ( { 'topic':'blockchain', 'title': 'Cryptokitties on the Blockchain', 'license': 'The (crypto) kitties on the blockchain dataset is dedicated to the public domain. Use it as you please with no restrictions whatsoever.', 'description': 'blocks of cryptokitties data', 'urls': [ 'https://github.com/cryptocopycats/kitties' ] } )\n",
    "coll.insert_one ( { 'topic':'blockchain', 'title': 'ZCache Cryptocurrecy', 'license': 'This dataset is generated using open-source software and is provided \"AS IS\" without any warranty, express or implied, from Google.', 'description': 'ZCache cryptocurrecy data', 'urls': [ 'https://console.cloud.google.com/marketplace/details/zcash/crypto-zcash?filter=solution-type:dataset&id=fccfa4e4-d54d-4095-bffe-2f4a5845cd00' ] } )\n",
    "coll.insert_one ( { 'topic':'blockchain', 'title': 'Bitcoin Block Hashes', 'license': 'License information not provided.', 'description': 'output file for bitcoin block hashes', 'urls': [ 'https://senseable2015-6.mit.edu/bitcoin/bh.dat.gz' ] } )\n",
    "coll.insert_one ( { 'topic':'blockchain', 'title': 'Bitcoin Contraction Dataset', 'license': 'License information not provided.', 'description': 'separately generated address contraction dataset', 'urls': [ 'https://senseable2015-6.mit.edu/bitcoin/addr_sccs.dat.gz' ] } )\n",
    "coll.insert_one ( { 'topic':'blockchain', 'title': 'Bitcoin Block Address Mappings', 'license': 'License information not provided.', 'description': 'output file for bitcoin address mappings', 'urls': [ 'https://senseable2015-6.mit.edu/bitcoin/addresses.dat.gz' ] } )\n",
    "coll.insert_one ( { 'topic':'blockchain', 'title': 'Bitcoin Block Transaction Overview', 'license': 'License information not provided.', 'description': 'output file for bitcoin transactions', 'urls': [ 'https://senseable2015-6.mit.edu/bitcoin/tx.dat.xz' ] } )"
   ]
  },
  {
   "cell_type": "code",
   "execution_count": 5,
   "metadata": {},
   "outputs": [
    {
     "name": "stdout",
     "output_type": "stream",
     "text": [
      "{'_id': ObjectId('5d86e42f3076d907b4886e13'),\n",
      " 'description': 'daily bitcoin data from the Coinbase exchange',\n",
      " 'license': 'This data is offered for free under the Creative '\n",
      "            'Commons Attribution-NonCommercial-ShareAlike 4.0 '\n",
      "            'International License.',\n",
      " 'title': 'Coinbase Exchange Bitcoin Data',\n",
      " 'topic': 'blockchain',\n",
      " 'urls': ['https://www.cryptodatadownload.com/cdd/Coinbase_BTCUSD_d.csv']}\n",
      "{'_id': ObjectId('5d86e42f3076d907b4886e14'),\n",
      " 'description': 'daily bitcoin data from the Kraken exchange',\n",
      " 'license': 'This data is offered for free under the Creative '\n",
      "            'Commons Attribution-NonCommercial-ShareAlike 4.0 '\n",
      "            'International License.',\n",
      " 'title': 'Kraken Exchange Bitcoin Data',\n",
      " 'topic': 'blockchain',\n",
      " 'urls': ['https://www.cryptodatadownload.com/cdd/Kraken_BTCUSD_d.csv']}\n",
      "{'_id': ObjectId('5d86e42f3076d907b4886e15'),\n",
      " 'description': 'daily bitcoin data from the Bitstamp exchange',\n",
      " 'license': 'This data is offered for free under the Creative '\n",
      "            'Commons Attribution-NonCommercial-ShareAlike 4.0 '\n",
      "            'International License.',\n",
      " 'title': 'Bitstamp Exchange Bitcoin Data',\n",
      " 'topic': 'blockchain',\n",
      " 'urls': ['https://www.cryptodatadownload.com/cdd/Bitstamp_BTCUSD_d.csv']}\n",
      "{'_id': ObjectId('5d86e42f3076d907b4886e16'),\n",
      " 'description': 'daily bitcoin data from the Gemini exchange',\n",
      " 'license': 'This data is offered for free under the Creative '\n",
      "            'Commons Attribution-NonCommercial-ShareAlike 4.0 '\n",
      "            'International License.',\n",
      " 'title': 'Gemini Exchange Bitcoin Data',\n",
      " 'topic': 'blockchain',\n",
      " 'urls': ['https://www.cryptodatadownload.com/cdd/Gemini_BTCUSD_d.csv']}\n",
      "{'_id': ObjectId('5d86e42f3076d907b4886e17'),\n",
      " 'description': 'daily end of day data for bitcoin',\n",
      " 'license': 'Subject to your compliance with these Terms, '\n",
      "            'CoinIntraday grants you a limited, non-exclusive, '\n",
      "            'non-transferable, non-sublicensable license to '\n",
      "            'view, display, stream, and download the Content '\n",
      "            'solely in connection with your permitted use of '\n",
      "            'the Services and solely for your personal and '\n",
      "            'non-commercial purposes.',\n",
      " 'title': 'Bitcoin End of Day Data',\n",
      " 'topic': 'blockchain',\n",
      " 'urls': ['http://www.coinintraday.com/data/eod/Bitcoin.csv?']}\n",
      "{'_id': ObjectId('5d86e42f3076d907b4886e18'),\n",
      " 'description': 'daily end of day data for ethereum',\n",
      " 'license': 'Subject to your compliance with these Terms, '\n",
      "            'CoinIntraday grants you a limited, non-exclusive, '\n",
      "            'non-transferable, non-sublicensable license to '\n",
      "            'view, display, stream, and download the Content '\n",
      "            'solely in connection with your permitted use of '\n",
      "            'the Services and solely for your personal and '\n",
      "            'non-commercial purposes.',\n",
      " 'title': 'Ethereum End of Day Data',\n",
      " 'topic': 'blockchain',\n",
      " 'urls': ['http://www.coinintraday.com/data/eod/Ethereum.csv?']}\n",
      "{'_id': ObjectId('5d86e42f3076d907b4886e19'),\n",
      " 'description': 'bitcoin data at 1-minute intervals from '\n",
      "                'various exchanges',\n",
      " 'license': 'CC BY-SA 4.0',\n",
      " 'title': 'Bitcoin Historical Data',\n",
      " 'topic': 'blockchain',\n",
      " 'urls': ['https://www.kaggle.com/mczielinski/bitcoin-historical-data']}\n",
      "{'_id': ObjectId('5d86e42f3076d907b4886e1a'),\n",
      " 'description': 'complete live historical bitcoin blockchain '\n",
      "                'data query',\n",
      " 'license': 'CC0: Public Domain',\n",
      " 'title': 'Complete Bitcoin Blockchain Data',\n",
      " 'topic': 'blockchain',\n",
      " 'urls': ['https://www.kaggle.com/bigquery/bitcoin-blockchain']}\n",
      "{'_id': ObjectId('5d86e42f3076d907b4886e1b'),\n",
      " 'description': 'complete live historical ethereum blockchain '\n",
      "                'data query',\n",
      " 'license': 'CC0: Public Domain',\n",
      " 'title': 'Complete Ethereum Blockchain Data',\n",
      " 'topic': 'blockchain',\n",
      " 'urls': ['https://www.kaggle.com/bigquery/ethereum-blockchain']}\n",
      "{'_id': ObjectId('5d86e42f3076d907b4886e1c'),\n",
      " 'description': 'licit vs illicit bitcoin transactions database',\n",
      " 'license': 'Attribution-NonCommercial-NoDerivatives 4.0 '\n",
      "            'International (CC BY-NC-ND 4.0)',\n",
      " 'title': 'Elliptic Data Set',\n",
      " 'topic': 'blockchain',\n",
      " 'urls': ['https://www.kaggle.com/ellipticco/elliptic-data-set']}\n",
      "{'_id': ObjectId('5d86e42f3076d907b4886e1d'),\n",
      " 'description': 'historical crypto currency data from the '\n",
      "                'exchange Bitfinex',\n",
      " 'license': 'CC BY-SA 4.0',\n",
      " 'title': '400+ crypto currency pairs at 1-minute resolution',\n",
      " 'topic': 'blockchain',\n",
      " 'urls': ['https://www.kaggle.com/tencars/392-crypto-currency-pairs-at-minute-resolution']}\n",
      "{'_id': ObjectId('5d86e42f3076d907b4886e1e'),\n",
      " 'description': 'historical community data for bitcoin',\n",
      " 'license': 'Creative Commons Attribution-NonCommercial 4.0 '\n",
      "            'International (CC BY-NC 4.0) License',\n",
      " 'title': 'Coin Metrics',\n",
      " 'topic': 'blockchain',\n",
      " 'urls': ['https://coinmetrics.io/newdata/btc.csv']}\n",
      "{'_id': ObjectId('5d86e42f3076d907b4886e1f'),\n",
      " 'description': 'historical community data for etherium',\n",
      " 'license': 'Creative Commons Attribution-NonCommercial 4.0 '\n",
      "            'International (CC BY-NC 4.0) License',\n",
      " 'title': 'Coin Metrics',\n",
      " 'topic': 'blockchain',\n",
      " 'urls': ['https://coinmetrics.io/newdata/eth.csv']}\n",
      "{'_id': ObjectId('5d86e42f3076d907b4886e20'),\n",
      " 'description': 'generates a dataset of all cryptokitties data',\n",
      " 'license': 'License information not provided',\n",
      " 'title': 'Cryptokitties CSV Generator',\n",
      " 'topic': 'blockchain',\n",
      " 'urls': ['https://github.com/brianmcmichael/cryptokitties-csv-generator']}\n",
      "{'_id': ObjectId('5d86e42f3076d907b4886e21'),\n",
      " 'description': 'blocks of cryptokitties data',\n",
      " 'license': 'The (crypto) kitties on the blockchain dataset is '\n",
      "            'dedicated to the public domain. Use it as you '\n",
      "            'please with no restrictions whatsoever.',\n",
      " 'title': 'Cryptokitties on the Blockchain',\n",
      " 'topic': 'blockchain',\n",
      " 'urls': ['https://github.com/cryptocopycats/kitties']}\n",
      "{'_id': ObjectId('5d86e42f3076d907b4886e22'),\n",
      " 'description': 'ZCache cryptocurrecy data',\n",
      " 'license': 'This dataset is generated using open-source '\n",
      "            'software and is provided \"AS IS\" without any '\n",
      "            'warranty, express or implied, from Google.',\n",
      " 'title': 'ZCache Cryptocurrecy',\n",
      " 'topic': 'blockchain',\n",
      " 'urls': ['https://console.cloud.google.com/marketplace/details/zcash/crypto-zcash?filter=solution-type:dataset&id=fccfa4e4-d54d-4095-bffe-2f4a5845cd00']}\n",
      "{'_id': ObjectId('5d86e42f3076d907b4886e23'),\n",
      " 'description': 'output file for bitcoin block hashes',\n",
      " 'license': 'License information not provided.',\n",
      " 'title': 'Bitcoin Block Hashes',\n",
      " 'topic': 'blockchain',\n",
      " 'urls': ['https://senseable2015-6.mit.edu/bitcoin/bh.dat.gz']}\n",
      "{'_id': ObjectId('5d86e42f3076d907b4886e24'),\n",
      " 'description': 'separately generated address contraction '\n",
      "                'dataset',\n",
      " 'license': 'License information not provided.',\n",
      " 'title': 'Bitcoin Contraction Dataset',\n",
      " 'topic': 'blockchain',\n",
      " 'urls': ['https://senseable2015-6.mit.edu/bitcoin/addr_sccs.dat.gz']}\n",
      "{'_id': ObjectId('5d86e42f3076d907b4886e25'),\n",
      " 'description': 'output file for bitcoin address mappings',\n",
      " 'license': 'License information not provided.',\n",
      " 'title': 'Bitcoin Block Address Mappings',\n",
      " 'topic': 'blockchain',\n",
      " 'urls': ['https://senseable2015-6.mit.edu/bitcoin/addresses.dat.gz']}\n",
      "{'_id': ObjectId('5d86e42f3076d907b4886e26'),\n",
      " 'description': 'output file for bitcoin transactions',\n",
      " 'license': 'License information not provided.',\n",
      " 'title': 'Bitcoin Block Transaction Overview',\n",
      " 'topic': 'blockchain',\n",
      " 'urls': ['https://senseable2015-6.mit.edu/bitcoin/tx.dat.xz']}\n"
     ]
    }
   ],
   "source": [
    "import pprint\n",
    "import pymongo, json\n",
    "client = pymongo.MongoClient (host=\"da1.eecs.utk.edu\")\n",
    "db = client ['fdac19mp2']\n",
    "coll = db ['vzenkov']\n",
    "pp = pprint.PrettyPrinter(indent=1,width=65)\n",
    "for r in coll. find():\n",
    "  print(pp .pformat (r))  "
   ]
  },
  {
   "cell_type": "code",
   "execution_count": null,
   "metadata": {
    "collapsed": true
   },
   "outputs": [],
   "source": []
  }
 ],
 "metadata": {
  "kernelspec": {
   "display_name": "Python 3",
   "language": "python",
   "name": "python3"
  },
  "language_info": {
   "codemirror_mode": {
    "name": "ipython",
    "version": 3
   },
   "file_extension": ".py",
   "mimetype": "text/x-python",
   "name": "python",
   "nbconvert_exporter": "python",
   "pygments_lexer": "ipython3",
   "version": "3.6.7"
  }
 },
 "nbformat": 4,
 "nbformat_minor": 1
}
