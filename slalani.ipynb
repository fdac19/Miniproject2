{
 "cells": [
  {
   "cell_type": "code",
   "execution_count": 3,
   "metadata": {},
   "outputs": [
    {
     "data": {
      "text/plain": [
       "<pymongo.results.InsertOneResult at 0x7fa8e8189a48>"
      ]
     },
     "execution_count": 3,
     "metadata": {},
     "output_type": "execute_result"
    }
   ],
   "source": [
    "import pprint\n",
    "import re\n",
    "import pymongo, json\n",
    "\n",
    "pp = pprint.PrettyPrinter(indent=1,width=65)\n",
    "\n",
    "client = pymongo.MongoClient (host=\"da1.eecs.utk.edu\")\n",
    "db = client ['fdac19mp2']\n",
    "coll = db ['slalani']\n",
    "# for each dataset\n",
    "coll.insert_one ( { 'topic':'Music', 'first dataset': '', 'license': 'NA', 'description': '', 'urls': [''] } )\n",
    "coll.insert_one ( { 'topic':'Music', 'first dataset': 'Spotify Song Attributes', 'license': 'NA', 'description': 'An attempt to build a classifier that can predict whether or not I like a song', 'urls': ['https://www.kaggle.com/geomack/spotifyclassification'] } )\n",
    "coll.insert_one ( { 'topic':'Music', 'second dataset': 'Music artists popularity', 'license': 'NA', 'description': 'tags, listeners, and scrobbles based on MusicBrainz and Last.fm', 'urls': ['https://www.kaggle.com/pieca111/music-artists-popularity'] } )\n",
    "coll.insert_one ( { 'topic':'Music', 'third dataset': 'U.S. users who use YouTube to watch or listen to music 2017, by occurrence', 'license': 'NA', 'description': 'This timeline shows the share of the US population who have used YouTube to watch music videos or listen to music as of February 2017, by occurrence. During the survey, it was found that 68 percent of the total U.S. population had used the video portal to watch music videos or listen to music.', 'urls': ['https://www.statista.com/statistics/291018/us-users-who-use-youtube-to-watch-or-listen-to-music/'] } )\n",
    "coll.insert_one ( { 'topic':'Music', '4th dataset': 'Music album consumption U.S. 2018, by genre', 'license': 'NA', 'description': 'In 2018, hip-hop and rap music accounted for 21.7 percent of total music consumption in the United States, more than double the percentage of R&B music sales. Other highly popular genres included pop and rock music, whereas just 1.1 percent of all music sold in the U.S. in 2018 was jazz.', 'urls': ['https://www.statista.com/statistics/310746/share-music-album-sales-us-genre/'] } )\n",
    "coll.insert_one ( { 'topic':'Music', '5th dataset': 'Music and emotion dataset (Primary Musical Cues)', 'license': 'CC0', 'description': 'Stimulus materials, design matrix, and mean ratings for music and emotion study using optimal design in factorial manipulation of musical features (Eerola, Friberg & Bresin, 2013).', 'urls': ['https://datamed.org/display-item.php?repository=0012&id=56d4b8b0e4b0e644d31371fb&query='] } )\n",
    "coll.insert_one ( { 'topic':'Music', '6th dataset': 'Medieval music database', 'license': 'NA', 'description': 'Medieval music database', 'urls': ['https://researchdata.ands.org.au/medieval-music-database/136437'] } )\n",
    "coll.insert_one ( { 'topic':'Music', '7th dataset': 'British Music Collection', 'license': 'http://www.opendefinition.org/licenses/cc-by-sa', 'description': 'The British Music Collection is a world leading resource in the discovery of new British music. Dating back to 1855, the Collection is a living archive, documenting the past and present of British music.', 'urls': ['https://old.datahub.io/dataset/british-music-collection'] } )\n",
    "coll.insert_one ( { 'topic':'Music', '8th dataset': 'Indian Hindi film music', 'license': 'CC BY-NC-SA 4.0', 'description': 'Indian Hindi film music kishor kumar 1 to 300 songs', 'urls': ['https://www.kaggle.com/makvel/hindi-film-music-kishor-kumar-1-to-300-songs'] } )\n",
    "coll.insert_one ( { 'topic':'Music', '9th dataset': 'Significance and popularity in music production', 'license': 'NA', 'description': 'Significance and popularity in music production', 'urls': ['https://datadryad.org/stash/dataset/doi:10.5061/dryad.jc8kd'] } )\n",
    "coll.insert_one ( { 'topic':'Music', '10th dataset': 'Music features', 'license': 'CC0: Public Domain', 'description': 'A dataset to test your music tagging model', 'urls': ['https://www.kaggle.com/insiyeah/musicfeatures'] } )\n",
    "coll.insert_one ( { 'topic':'Music', '11th dataset': 'Cognitive Effects of Music and Dance Training in Children', 'license': 'https://www.icpsr.umich.edu/icpsrweb/ICPSR/studies/37080/terms', 'description': 'Cognitive Effects of Music and Dance Training in Children', 'urls': ['https://www.icpsr.umich.edu/icpsrweb/ICPSR/studies/37080'] } )\n",
    "coll.insert_one ( { 'topic':'Music', '12th dataset': 'Music from Timor-Leste', 'license': 'NA', 'description': 'Music from Timor-Leste', 'urls': ['https://researchdata.ands.org.au/music-timor-leste/12657'] } )\n",
    "coll.insert_one ( { 'topic':'Music', '13th dataset': 'MuMu: Multimodal Music Dataset', 'license': 'http://creativecommons.org/licenses/by/4.0/legalcode', 'description': 'MuMu: Multimodal Music Dataset', 'urls': ['https://zenodo.org/record/1236906#.XYPMWyhKiUk'] } )\n",
    "coll.insert_one ( { 'topic':'Music', '14th dataset': 'Music album sales in the United States from 2007 to 2018 (in million units)', 'license': 'NA', 'description': 'Music album sales in the United States from 2007 to 2018 (in million units)', 'urls': ['https://www.statista.com/statistics/273308/music-album-sales-in-the-us/'] } )\n",
    "coll.insert_one ( { 'topic':'Music', '15th dataset': 'Events — Music and concert', 'license': 'Creative Commons Attribution 4.0', 'description': 'This dataset contains information on music and concert events organised or supported by Brisbane City Council. It includes locations, dates and times.', 'urls': ['https://data.gov.au/dataset/ds-brisbane-19835971-06f2-4d32-a925-d2ae3639e754/details'] } )\n",
    "coll.insert_one ( { 'topic':'Music', '16th dataset': 'State Library of Queensland - Music Queensland', 'license': 'https://creativecommons.org/licenses/by/4.0/', 'description': 'State Library of Queensland - Music Queensland', 'urls': ['https://www.data.qld.gov.au/dataset/music-queensland'] } )\n",
    "coll.insert_one ( { 'topic':'Music', '17th dataset': 'Leading Android music apps in Germany 2018, by downloads', 'license': 'NA', 'description': 'Leading music and audio apps in the Google Play Store in Germany in April 2018, by number of downloads', 'urls': ['https://www.statista.com/statistics/698660/leading-android-music-apps-in-germany-by-downloads/'] } )\n",
    "coll.insert_one ( { 'topic':'Music', '18th dataset': 'Flute audio labelled database for Automatic Music Transcription', 'license': 'http://creativecommons.org/licenses/by/4.0/legalcode', 'description': 'Automatic Music Transcription (ATM) is a well-known task in the Music Information Retrieval (MIR) domain and consists on the computation of a symbolic music representation from an audio recording. In this work, our focus is to adapt algorithms that extract musical information from an audio file for a particular instrument. The main objective is to study the automatic transcription of digitized music support systems. Currently, these techniques are applied to a generic sound timbre, to sounds to any instrument for further analysis and conversion to a digital music encoding and final score format. The results of this project add new knowledge in this automatic transcription field, since traverse flute has been selected as the instrument on which to focus all the process and, until now, there is no database of flute sounds for this purpose.', 'urls': ['https://zenodo.org/record/1408985#.XYPvGyhKiUk'] } )\n",
    "coll.insert_one ( { 'topic':'Music', '19th dataset': 'Consumer Price Index: Music Instruments and Accessories in U.S. City Average, All Urban Consumers', 'license': 'https://research.stlouisfed.org/fred_terms.html', 'description': 'Graph and download economic data for Consumer Price Index: Music Instruments and Accessories in U.S. City Average, All Urban Consumers (CUSR0000SERE03) from Jan 2004 to Aug 2019 about musical, instruments, urban, consumer, CPI, price index, price, indexes, and USA.', 'urls': ['https://fred.stlouisfed.org/series/CUSR0000SERE03'] } )\n",
    "coll.insert_one ( { 'topic':'Music', '20th dataset': 'Image Music Affective Correspondence Dataset (IMAC)', 'license': 'NA', 'description': 'Affective correspondence between 3,812 songs and over 85,000 images. To facilitate the study of crossmodal emotion analysis, we constructed a large scale database, which we call the Image-Music Affective Correspondence (IMAC) database. It consists of more than 85,000 images and 3,812 songs (approximately 270 hours of audio). Each data sample is labeled with one of the three emotions: positive, neutral and negative. The IMAC database is constructed by combining an existing image emotion database (You et al., 2016) with a new music emotion database curated by us (Verma et al., 2019).', 'urls': ['https://gaurav22verma.github.io/IMAC_Dataset.html'] } )\n",
    "\n",
    "\n"
   ]
  },
  {
   "cell_type": "code",
   "execution_count": 4,
   "metadata": {},
   "outputs": [
    {
     "name": "stdout",
     "output_type": "stream",
     "text": [
      "{'_id': ObjectId('5d83b9922960828f927d9c71'),\n",
      " 'description': 'The list of projects on github with the '\n",
      "                'largest number of starts',\n",
      " 'first dataset': 'largest projects',\n",
      " 'license': 'NA',\n",
      " 'topic': 'git URLs',\n",
      " 'urls': ['url1', 'url2']}\n"
     ]
    }
   ],
   "source": [
    "import pprint\n",
    "import pymongo, json\n",
    "client = pymongo.MongoClient (host=\"da1.eecs.utk.edu\")\n",
    "db = client ['fdac19mp2']\n",
    "coll = db ['slalani']\n",
    "pp = pprint.PrettyPrinter(indent=1,width=65)\n",
    "for r in coll. find():\n",
    "  print(pp .pformat (r))  "
   ]
  },
  {
   "cell_type": "code",
   "execution_count": null,
   "metadata": {
    "collapsed": true
   },
   "outputs": [],
   "source": []
  }
 ],
 "metadata": {
  "kernelspec": {
   "display_name": "Python 3",
   "language": "python",
   "name": "python3"
  },
  "language_info": {
   "codemirror_mode": {
    "name": "ipython",
    "version": 3
   },
   "file_extension": ".py",
   "mimetype": "text/x-python",
   "name": "python",
   "nbconvert_exporter": "python",
   "pygments_lexer": "ipython3",
   "version": "3.6.7"
  }
 },
 "nbformat": 4,
 "nbformat_minor": 1
}
