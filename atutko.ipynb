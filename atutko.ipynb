{
 "cells": [
  {
   "cell_type": "code",
   "execution_count": 7,
   "metadata": {},
   "outputs": [
    {
     "data": {
      "text/plain": [
       "<pymongo.results.InsertOneResult at 0x7fa88ddf2308>"
      ]
     },
     "execution_count": 7,
     "metadata": {},
     "output_type": "execute_result"
    }
   ],
   "source": [
    "import pprint\n",
    "import re\n",
    "import pymongo, json\n",
    "\n",
    "pp = pprint.PrettyPrinter(indent=1,width=65)\n",
    "\n",
    "client = pymongo.MongoClient (host=\"da1.eecs.utk.edu\")\n",
    "db = client ['fdac19mp2']\n",
    "coll = db ['atutko']\n",
    "# for each dataset\n",
    "\n",
    "coll.insert_one ( { 'topic':'NCAA Football Stats', 'Stats': 'College Football Statistics 2005-2013', 'Random College Stats': 'The list of football stats', 'urls': \"https://old.datahub.io/dataset/college-football-statistics-2005-2013\" } )\n",
    "\n",
    "coll.insert_one ( { 'topic':'NCAA Football Stats', 'Stats': 'Attendance at Division I, II & III college football games 2003-2018', 'NA': 'NA', 'Random College Stats': 'The list of football stats', 'urls': \"https://www.statista.com/statistics/254672/attendance-at-division-i-ii-und-iii-college-football-games/\" } )\n",
    " \n",
    "coll.insert_one ( { 'topic':'NCAA Football Stats', 'Stats': 'Every Player, Team, and Play from 2005 - 2013', 'NA': 'NA', 'Random College Stats': 'Brief data description', 'urls': \"https://www.kaggle.com/mhixon/college-football-statistics\" } )\n",
    " \n",
    "coll.insert_one ( { 'topic':'NCAA Football Stats', 'Stats': 'Households with people who attended a College football event in the U.S. 2018 to 2020', 'NA': 'NA', 'Random College Stats': 'Brief data description', 'urls': \"https://www.statista.com/statistics/232086/college-football-event-attendance-usa/\" } )\n",
    " \n",
    "coll.insert_one ( { 'topic':'NCAA Football Stats', 'Stats': 'Share of U.S. consumers interested in college football 2017', 'NA': 'NA', 'Random College Stats': 'Brief data description', 'urls': \"https://www.statista.com/statistics/659974/college-football-us-consumer-interest/\" } )\n",
    " \n",
    "coll.insert_one ( { 'topic':'NCAA Football Stats', 'Stats': 'NCAA college football most watched games', 'NA': 'NA', 'Random College Stats': 'Brief data description', 'urls': \"https://www.statista.com/statistics/616199/college-football-most-watched-games/\" } )\n",
    " \n",
    "coll.insert_one ( { 'topic':'NCAA Football Stats', 'Stats': 'American College Football Network Files', 'NA': 'NA', 'Random College Stats': 'Brief data description', 'urls': \"https://figshare.com/articles/American_College_Football_Network_Files/93179\" } )\n",
    " \n",
    "coll.insert_one ( { 'topic':'NCAA Football Stats', 'Stats': 'NCAA college football TV ratings and viewership 2018', 'NA': 'NA', 'Random College Stats': 'Brief data description', 'urls': \"https://www.statista.com/statistics/748033/college-football-tv-ratings/\" } )\n",
    " \n",
    "coll.insert_one ( { 'topic':'NCAA Football Stats', 'Stats': 'U.S. college football teams ranked by revenue 2014', 'NA': 'NA', 'Random College Stats': 'Brief data description', 'urls': \"https://www.statista.com/statistics/249745/us-college-football-teams-revenue/\" } )\n",
    " \n",
    "coll.insert_one ( { 'topic':'NCAA Football Stats', 'Stats': 'U.S. college football programs by revenue 2011', 'NA': 'NA', 'Random College Stats': 'Brief data description', 'urls': \"https://www.statista.com/statistics/202763/revenue-of-college-football-teams/\" } )\n",
    " \n",
    "coll.insert_one ( { 'topic':'NCAA Football Stats', 'Stats': 'Attendance at Southeastern Conference college football games 2003-2018', 'NA': 'NA', 'Random College Stats': 'Brief data description', 'urls': \"https://www.statista.com/statistics/254673/attendance-at-southeastern-conference-college-football-games/\" } )\n",
    " \n",
    "coll.insert_one ( { 'topic':'NCAA Football Stats', 'Stats': 'Brand value of College Football Playoffs 2015-2017', 'NA': 'NA', 'Random College Stats': 'Brief data description', 'urls': \"https://www.statista.com/statistics/632326/college-football-playoff-brand-value/\" } )\n",
    " \n",
    "coll.insert_one ( { 'topic':'NCAA Football Stats', 'Stats': 'Attendance at Conference USA college football games 2003-2018', 'NA': 'NA', 'Random College Stats': 'Brief data description', 'urls': \"https://www.statista.com/statistics/254874/attendance-at-conference-usa-college-football-games/\" } )\n",
    " \n",
    "coll.insert_one ( { 'topic':'NCAA Football Stats', 'Stats': 'Attendance at Pac-12 Conference college football games 2003-2018', 'NA': 'NA', 'Random College Stats': 'Brief data description', 'urls': \"https://www.statista.com/statistics/254689/attendance-at-pac-12-conference-college-football-games/\" } )\n",
    " \n",
    "coll.insert_one ( { 'topic':'NCAA Football Stats', 'Stats': 'Share of Americans who watched a College football event 2018, by age', 'NA': 'NA', 'Random College Stats': 'Brief data description', 'urls': \"https://www.statista.com/statistics/231943/college-football-events-on-cable-tv-usa/\" } )\n",
    " \n",
    "coll.insert_one ( { 'topic':'NCAA Football Stats', 'Stats': 'Attendance at Western Athletic Conference college football games 2003-2012', 'NA': 'NA', 'Random College Stats': 'Brief data description', 'urls': \"https://www.statista.com/statistics/254887/attendance-at-western-athletic-conference-college-football-games/\" } )\n",
    " \n",
    "coll.insert_one ( { 'topic':'NCAA Football Stats', 'Stats': 'Attendance at Sun Belt Conference college football games 2003-2018', 'NA': 'NA', 'Random College Stats': 'Brief data description', 'urls': \"https://www.statista.com/statistics/254881/attendance-at-sun-belt-conference-college-football-games/\" } )\n",
    " \n",
    "coll.insert_one ( { 'topic':'NCAA Football Stats', 'Stats': 'Attendance at Big East Conference college football games 2003-2012', 'NA': 'NA', 'Random College Stats': 'Brief data description', 'urls': \"https://www.statista.com/statistics/254867/attendance-at-big-east-conference-college-football-games/\" } )\n",
    " \n",
    "coll.insert_one ( { 'topic':'NCAA Football Stats', 'Stats': \"U.S. colleges' annual campus revenue generated by football 2009/10\", 'NA': 'NA', 'Random College Stats': 'Brief data description', 'urls': \"https://www.statista.com/statistics/220448/us-college-football-related-revenue/\" } )\n"
   ]
  },
  {
   "cell_type": "code",
   "execution_count": 3,
   "metadata": {},
   "outputs": [
    {
     "name": "stdout",
     "output_type": "stream",
     "text": [
      "{'_id': ObjectId('5d7e6769e1eaff62f15de0d2'),\n",
      " 'description': 'The list of projects on github with the '\n",
      "                'largest number of starts',\n",
      " 'first dataset': 'largest projects',\n",
      " 'license': 'NA',\n",
      " 'topic': 'git URLs',\n",
      " 'urls': ['url1', 'url2']}\n"
     ]
    }
   ],
   "source": [
    "import pprint\n",
    "import pymongo, json\n",
    "client = pymongo.MongoClient (host=\"da1.eecs.utk.edu\")\n",
    "db = client ['fdac19mp2']\n",
    "coll = db ['audris']\n",
    "pp = pprint.PrettyPrinter(indent=1,width=65)\n",
    "for r in coll. find():\n",
    "  print(pp .pformat (r))  "
   ]
  },
  {
   "cell_type": "code",
   "execution_count": null,
   "metadata": {
    "collapsed": true
   },
   "outputs": [],
   "source": []
  }
 ],
 "metadata": {
  "kernelspec": {
   "display_name": "Python 3",
   "language": "python",
   "name": "python3"
  },
  "language_info": {
   "codemirror_mode": {
    "name": "ipython",
    "version": 3
   },
   "file_extension": ".py",
   "mimetype": "text/x-python",
   "name": "python",
   "nbconvert_exporter": "python",
   "pygments_lexer": "ipython3",
   "version": "3.6.7"
  }
 },
 "nbformat": 4,
 "nbformat_minor": 1
}
