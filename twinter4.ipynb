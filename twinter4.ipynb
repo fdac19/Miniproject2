{
 "cells": [
  {
   "cell_type": "code",
   "execution_count": 1,
   "metadata": {},
   "outputs": [
    {
     "name": "stderr",
     "output_type": "stream",
     "text": [
      "/usr/local/lib/python3.5/dist-packages/ipykernel_launcher.py:11: DeprecationWarning: insert is deprecated. Use insert_one or insert_many instead.\n",
      "  # This is added back by InteractiveShellApp.init_path()\n"
     ]
    },
    {
     "data": {
      "text/plain": [
       "ObjectId('5d7e6769e1eaff62f15de0d2')"
      ]
     },
     "execution_count": 1,
     "metadata": {},
     "output_type": "execute_result"
    }
   ],
   "source": [
    "import pprint\n",
    "import re\n",
    "import pymongo, json\n",
    "\n",
    "pp = pprint.PrettyPrinter(indent=1,width=65)\n",
    "\n",
    "client = pymongo.MongoClient (host=\"da1.eecs.utk.edu\")\n",
    "db = client ['fdac19mp2']\n",
    "coll = db ['audris']\n",
    "# for each dataset\n",
    "coll.insert_one ( { 'topic':'git URLs', 'first dataset': 'largest projects', 'license': 'NA', 'description': 'The list of projects on github with the largest number of starts', 'urls': [ 'url1', 'url2' ] } )\n"
   ]
  },
  {
   "cell_type": "code",
   "execution_count": 3,
   "metadata": {},
   "outputs": [
    {
     "name": "stdout",
     "output_type": "stream",
     "text": [
      "{'_id': ObjectId('5d7e6769e1eaff62f15de0d2'),\n",
      " 'description': 'The list of projects on github with the '\n",
      "                'largest number of starts',\n",
      " 'first dataset': 'largest projects',\n",
      " 'license': 'NA',\n",
      " 'topic': 'git URLs',\n",
      " 'urls': ['url1', 'url2']}\n"
     ]
    }
   ],
   "source": [
    "import pprint\n",
    "import pymongo, json\n",
    "client = pymongo.MongoClient (host=\"da1.eecs.utk.edu\")\n",
    "db = client ['fdac19mp2']\n",
    "coll = db ['audris']\n",
    "pp = pprint.PrettyPrinter(indent=1,width=65)\n",
    "for r in coll. find():\n",
    "  print(pp .pformat (r))  "
   ]
  },
  {
   "cell_type": "code",
   "execution_count": 1,
   "metadata": {},
   "outputs": [
    {
     "ename": "SyntaxError",
     "evalue": "invalid syntax (<ipython-input-1-eec469d5cd4b>, line 7)",
     "output_type": "error",
     "traceback": [
      "\u001b[0;36m  File \u001b[0;32m\"<ipython-input-1-eec469d5cd4b>\"\u001b[0;36m, line \u001b[0;32m7\u001b[0m\n\u001b[0;31m    coll.insert({'topic':'Fantasy Basketball','title':'Daily Fantasy Basketball-DraftKings NBA','license':'CC0: Public Domain','description','20 days of fantasy basketball information given by draft kings','urls':'https://www.kaggle.com/alandu20/daily-fantasy-basketball-draftkings'})\u001b[0m\n\u001b[0m                                                                                                                                            ^\u001b[0m\n\u001b[0;31mSyntaxError\u001b[0m\u001b[0;31m:\u001b[0m invalid syntax\n"
     ]
    }
   ],
   "source": [
    "import pprint\n",
    "import pymongo, json\n",
    "client = pymongo.MongoClient (host=\"da1.eecs.utk.edu\")\n",
    "db = client ['fdac19mp2']\n",
    "coll = db ['twinter4']\n",
    "\n",
    "coll.insert({'topic':'Fantasy Basketball','title':'Daily Fantasy Basketball-DraftKings NBA','license':'CC0: Public Domain','description','20 days of fantasy basketball information given by draft kings','urls':'https://www.kaggle.com/alandu20/daily-fantasy-basketball-draftkings'})\n",
    "coll.insert({'topic':'Fantasy Football','title':'Fantasy Football Rankings 2019','license':'N/A','description','Catalogue of NFL fantasy football stats for all players throughout the season','urls':'https://www.lineups.com/nfl/fantasy/football-rankings'})\n",
    "coll.insert({'topic':'Food','title':'Consumer Price Index for All Urban Consumers:Food','license':'https://research.stlouisfed.org/fred_terms.html','description':'Consumer price index of food over 70 years','urls','https://fred.stlouisfed.org/series/CPIUFDSL'})\n",
    "coll.insert({'topic':'Food','title':'Who eats the food we grow?','license':'https://research.stlouisfed.org/fred_terms.html','description':'Consumer price index of food over 70 years','urls','https://fred.stlouisfed.org/series/CPIUFDSL'})\n",
    "coll.insert({'topic':'Food','title':'Density of Fast Food Outlets','license':'N/A','description':'Density of fast food outlers to population ','urls','https://data.wu.ac.at/schema/data_gov_uk/MGMyMjRhODMtMGQ3ZC00YzMzLTllMTYtMWEwNGMzNDI3ZjM1'})\n",
    "coll.insert({'topic':'Food','title':'mcDonalds vs. Population Density','license':'Class Project','description':'Trying to figure out how the density of the population affects the amount of Mcdonalds available in a given location','urls','http://hub.arcgis.com/datasets/c0a819fc715547008a650c42d1f31ed2'})\n",
    "coll.insert({'topic':'Food','title':'Countires with the most McDonalds restaurants per million people','license':'Statista','description':'Dataset shoes a ranking of Mcdonalds amointr sper populations size across several countries','urls','https://www.statista.com/statistics/461611/mcdonald-s-per-million-people-worldwide-by-country/'})\n",
    "coll.insert({'topic':'Video Games','title':'Video Games Sales With Ratings','license':'N/A','description':'Charting videogame sales with their ratings on metacritics','urls','https://www.kaggle.com/rush4ratio/video-game-sales-with-ratings'})\n",
    "coll.insert({'topic':'Video Games','title':'Video Games and Game Downloads Industry Overview','license':'JumpShot Inc.','description':'Video Games & Game Downloads performance statistics including transactions, price, conversion rate and top product categories.','urls','https://www.jumpshot.com/category/toys-video-games/video-games-game-downloads'})\n",
    "coll.insert({'topic':'Video Games','title':'Video game Sales Data','license':'N/A','description':'Data collected from over 50,000 video games','urls','https://www.kaggle.com/rgwegwegwe/vgsaledata'})\n",
    "coll.insert({'topic':'Video Games','title':'Video Game Accesories Industry Overview','license':'Jumpshot Inc.','description':'Video Game Accessories performance statistics including transactions, price, conversion rate and top product categories.','urls','https://www.jumpshot.com/category/toys-video-games/video-game-accessories'})\n",
    "coll.insert({'topic':'Video Games','title':'Active Video Games and Health indicators in Children and Youth: A Systematic review','license':'https://creativecommons.org/licenses/by/4.0/','description':'','urls',''})\n",
    "coll.insert({'topic':'Video Games','title':'Value of the global video games market 2012-2021','license':'N/A','description':'forecast of the value of the global video game marker from 2012 - 2021','urls','https://www.statista.com/statistics/246888/value-of-the-global-video-game-market/'})\n",
    "coll.insert({'topic':'Video Games','title':'Steam Video Game hours played','license':'N/A','description':'Purchase behavior of steam video game users','urls','https://www.kaggle.com/tamber/steam-video-games/data'})\n",
    "coll.insert({'topic':'Video Games','title':'Number of Video Gamers WorldWide 2014-2021','license':'N/A','description':'Tracking the trends of videogamers in various countries','urls','https://www.statista.com/statistics/748044/number-video-gamers-world/'})\n",
    "coll.insert({'topic':'Video Games','title':'17000 Video Game Reviews from JVC','license':'N/A','description':'Video games reviews for 11000 unique titles drawn from various reviewers','urls','https://www.kaggle.com/floval/jvc-game-reviews'})\n",
    "coll.insert({'topic':'Video Games','title':'Age of U.S video game players in 2019','license':'N/A','description':'Collection of datat chariting the average ae of video game players in 2019','urls','https://www.statista.com/statistics/189582/age-of-us-video-game-players-since-2010/'})\n",
    "coll.insert({'topic':'Video Games','title':'Data from: effect of Sexualized Video Games','license':'CC0','description':'Data used in the study: Effects of Sexualized Video Games on Online Sexual Harassment','urls','https://search.datacite.org/works/10.7910/dvn/9tfdev'})\n",
    "coll.insert({'topic':'Video Games','title':'Youtube Mulitview Video Games Dataset','license':'N/A','description':'Collection of data of youtube gamers','urls','https://data.world/uci/youtube-multiview-video-games-dataset'})\n",
    "coll.insert({'topic':'Video Games','title':,'Female Action video game players','license','CC0','description','Collection of data documenting various female video game characters','urls','https://openneuro.org/datasets/ds000253'})"
   ]
  },
  {
   "cell_type": "code",
   "execution_count": null,
   "metadata": {},
   "outputs": [],
   "source": []
  }
 ],
 "metadata": {
  "kernelspec": {
   "display_name": "Python 3",
   "language": "python",
   "name": "python3"
  },
  "language_info": {
   "codemirror_mode": {
    "name": "ipython",
    "version": 3
   },
   "file_extension": ".py",
   "mimetype": "text/x-python",
   "name": "python",
   "nbconvert_exporter": "python",
   "pygments_lexer": "ipython3",
   "version": "3.6.7"
  }
 },
 "nbformat": 4,
 "nbformat_minor": 1
}
