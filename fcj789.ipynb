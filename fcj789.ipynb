{
 "cells": [
  {
   "cell_type": "code",
   "execution_count": 1,
   "metadata": {},
   "outputs": [
    {
     "data": {
      "text/plain": [
       "'\\n    For my database I have built out a list of resources that I intend to use\\n    for my final project. One topic that I really care about is personal \\n    nutrition. Our group intends to web scrape recipe websites to analyze the\\n    nutrtional breakdown of meals. The datasets entered into the database are \\n    a mix of recipe info and nutritional breakdowns of common food.\\n'"
      ]
     },
     "execution_count": 1,
     "metadata": {},
     "output_type": "execute_result"
    }
   ],
   "source": [
    "\"\"\"\n",
    "    For my database I have built out a list of resources that I intend to use\n",
    "    for my final project. One topic that I really care about is personal \n",
    "    nutrition. Our group intends to web scrape recipe websites to analyze the\n",
    "    nutrtional breakdown of meals. The datasets entered into the database are \n",
    "    a mix of recipe info and nutritional breakdowns of common food.\n",
    "\"\"\""
   ]
  },
  {
   "cell_type": "code",
   "execution_count": 2,
   "metadata": {},
   "outputs": [],
   "source": [
    "import pymongo, json\n",
    "\n",
    "client = pymongo.MongoClient(host=\"da1.eecs.utk.edu\")\n",
    "db = client['fdac19mp2']\n",
    "coll = db['fcj789']"
   ]
  },
  {
   "cell_type": "code",
   "execution_count": 3,
   "metadata": {},
   "outputs": [
    {
     "name": "stderr",
     "output_type": "stream",
     "text": [
      "/usr/local/lib/python3.6/dist-packages/ipykernel_launcher.py:3: DeprecationWarning: insert is deprecated. Use insert_one or insert_many instead.\n",
      "  This is separate from the ipykernel package so we can avoid doing imports until\n"
     ]
    },
    {
     "data": {
      "text/plain": [
       "ObjectId('5d88c84072d9f0b69286e010')"
      ]
     },
     "execution_count": 3,
     "metadata": {},
     "output_type": "execute_result"
    }
   ],
   "source": [
    "coll.insert({'topic':'nutrition', 'title': 'Open Food Facts', 'license': 'Open Database'\\\n",
    "    ,'description': 'Explore nutrition facts from foods around the world'\\\n",
    "    , 'urls': 'https://www.kaggle.com/openfoodfacts/world-food-facts'})"
   ]
  },
  {
   "cell_type": "code",
   "execution_count": 4,
   "metadata": {},
   "outputs": [
    {
     "name": "stderr",
     "output_type": "stream",
     "text": [
      "/usr/local/lib/python3.6/dist-packages/ipykernel_launcher.py:3: DeprecationWarning: insert is deprecated. Use insert_one or insert_many instead.\n",
      "  This is separate from the ipykernel package so we can avoid doing imports until\n"
     ]
    },
    {
     "data": {
      "text/plain": [
       "ObjectId('5d88c84072d9f0b69286e011')"
      ]
     },
     "execution_count": 4,
     "metadata": {},
     "output_type": "execute_result"
    }
   ],
   "source": [
    "coll.insert({'topic':'nutrition', 'title': 'Food searches on Google since 2004', 'license': 'CC BY-SA 4.0'\\\n",
    "    ,'description': 'Google search interest can reveal key food trends over the years.'\\\n",
    "    , 'urls': 'https://www.kaggle.com/GoogleNewsLab/food-searches-on-google-since-2004'})"
   ]
  },
  {
   "cell_type": "code",
   "execution_count": 5,
   "metadata": {},
   "outputs": [
    {
     "name": "stderr",
     "output_type": "stream",
     "text": [
      "/usr/local/lib/python3.6/dist-packages/ipykernel_launcher.py:3: DeprecationWarning: insert is deprecated. Use insert_one or insert_many instead.\n",
      "  This is separate from the ipykernel package so we can avoid doing imports until\n"
     ]
    },
    {
     "data": {
      "text/plain": [
       "ObjectId('5d88c84072d9f0b69286e012')"
      ]
     },
     "execution_count": 5,
     "metadata": {},
     "output_type": "execute_result"
    }
   ],
   "source": [
    "coll.insert({'topic':'nutrition', 'title': 'Nutrition facts for Starbucks Menu', 'license': 'Public Domain'\\\n",
    "    ,'description': 'Nutrition information for Starbucks menu items, including food and drinks'\\\n",
    "    , 'urls': 'https://www.kaggle.com/starbucks/starbucks-menu'})"
   ]
  },
  {
   "cell_type": "code",
   "execution_count": 6,
   "metadata": {},
   "outputs": [
    {
     "name": "stderr",
     "output_type": "stream",
     "text": [
      "/usr/local/lib/python3.6/dist-packages/ipykernel_launcher.py:3: DeprecationWarning: insert is deprecated. Use insert_one or insert_many instead.\n",
      "  This is separate from the ipykernel package so we can avoid doing imports until\n"
     ]
    },
    {
     "data": {
      "text/plain": [
       "ObjectId('5d88c84072d9f0b69286e013')"
      ]
     },
     "execution_count": 6,
     "metadata": {},
     "output_type": "execute_result"
    }
   ],
   "source": [
    "coll.insert({'topic':'food volumes', 'title': 'Food Balance Sheets', 'license': 'CC BY-SA 3.0'\\\n",
    "    ,'description': 'Volume of commodities across all stages of the supply chain.'\\\n",
    "    , 'urls': 'https://www.kaggle.com/cameronappel/food-balance-sheet-europe'})"
   ]
  },
  {
   "cell_type": "code",
   "execution_count": 7,
   "metadata": {},
   "outputs": [
    {
     "name": "stderr",
     "output_type": "stream",
     "text": [
      "/usr/local/lib/python3.6/dist-packages/ipykernel_launcher.py:3: DeprecationWarning: insert is deprecated. Use insert_one or insert_many instead.\n",
      "  This is separate from the ipykernel package so we can avoid doing imports until\n"
     ]
    },
    {
     "data": {
      "text/plain": [
       "ObjectId('5d88c84072d9f0b69286e014')"
      ]
     },
     "execution_count": 7,
     "metadata": {},
     "output_type": "execute_result"
    }
   ],
   "source": [
    "coll.insert({'topic':'nutrition', 'title': 'Food Ingredient Lists', 'license': 'CC BY-NC-SA 4.0'\\\n",
    "    ,'description': 'A list of 10,000 food products and their ingredients.'\\\n",
    "    , 'urls': 'https://www.kaggle.com/datafiniti/food-ingredient-lists'})"
   ]
  },
  {
   "cell_type": "code",
   "execution_count": 8,
   "metadata": {},
   "outputs": [
    {
     "name": "stderr",
     "output_type": "stream",
     "text": [
      "/usr/local/lib/python3.6/dist-packages/ipykernel_launcher.py:3: DeprecationWarning: insert is deprecated. Use insert_one or insert_many instead.\n",
      "  This is separate from the ipykernel package so we can avoid doing imports until\n"
     ]
    },
    {
     "data": {
      "text/plain": [
       "ObjectId('5d88c84072d9f0b69286e015')"
      ]
     },
     "execution_count": 8,
     "metadata": {},
     "output_type": "execute_result"
    }
   ],
   "source": [
    "coll.insert({'topic':'nutrition', 'title': 'Nutritional values for common foods and products'\\\n",
    "    , 'license': 'CC0: Public Domain','description': 'Nutritional values for ~8.8k types of food'\\\n",
    "    , 'urls': 'https://www.kaggle.com/trolukovich/nutritional-values-for-common-foods-and-products'})"
   ]
  },
  {
   "cell_type": "code",
   "execution_count": 9,
   "metadata": {},
   "outputs": [
    {
     "name": "stderr",
     "output_type": "stream",
     "text": [
      "/usr/local/lib/python3.6/dist-packages/ipykernel_launcher.py:3: DeprecationWarning: insert is deprecated. Use insert_one or insert_many instead.\n",
      "  This is separate from the ipykernel package so we can avoid doing imports until\n"
     ]
    },
    {
     "data": {
      "text/plain": [
       "ObjectId('5d88c84072d9f0b69286e016')"
      ]
     },
     "execution_count": 9,
     "metadata": {},
     "output_type": "execute_result"
    }
   ],
   "source": [
    "coll.insert({'topic':'nutrition', 'title': 'USDA Food Composition Databases', 'license': 'Public Domain'\\\n",
    "    , 'description': 'REST API-intended to assist application developers wishing to incorporate nutrient data'\\\n",
    "    , 'urls': 'https://ndb.nal.usda.gov/ndb/doc/index'})"
   ]
  },
  {
   "cell_type": "code",
   "execution_count": 10,
   "metadata": {},
   "outputs": [
    {
     "name": "stderr",
     "output_type": "stream",
     "text": [
      "/usr/local/lib/python3.6/dist-packages/ipykernel_launcher.py:3: DeprecationWarning: insert is deprecated. Use insert_one or insert_many instead.\n",
      "  This is separate from the ipykernel package so we can avoid doing imports until\n"
     ]
    },
    {
     "data": {
      "text/plain": [
       "ObjectId('5d88c84072d9f0b69286e017')"
      ]
     },
     "execution_count": 10,
     "metadata": {},
     "output_type": "execute_result"
    }
   ],
   "source": [
    "coll.insert({'topic':'nutrition', 'title': 'Nutrition & Exercise API', 'license': 'Proprietary'\\\n",
    "    , 'description': 'REST API-nutritional breakdown of common foods'\\\n",
    "    , 'urls': 'https://www.nutritionix.com/business/api'})"
   ]
  },
  {
   "cell_type": "code",
   "execution_count": 11,
   "metadata": {},
   "outputs": [
    {
     "name": "stderr",
     "output_type": "stream",
     "text": [
      "/usr/local/lib/python3.6/dist-packages/ipykernel_launcher.py:3: DeprecationWarning: insert is deprecated. Use insert_one or insert_many instead.\n",
      "  This is separate from the ipykernel package so we can avoid doing imports until\n"
     ]
    },
    {
     "data": {
      "text/plain": [
       "ObjectId('5d88c84072d9f0b69286e018')"
      ]
     },
     "execution_count": 11,
     "metadata": {},
     "output_type": "execute_result"
    }
   ],
   "source": [
    "coll.insert({'topic':'recipe', 'title': 'Recipe Ingredients Dataset', 'license': 'Unknown'\\\n",
    "    , 'description': 'Use Recipe Ingredients to Categorize the Cuisine by region - JSON format'\\\n",
    "    , 'urls': 'https://www.kaggle.com/kaggle/recipe-ingredients-dataset#train.json'})"
   ]
  },
  {
   "cell_type": "code",
   "execution_count": 12,
   "metadata": {},
   "outputs": [
    {
     "name": "stderr",
     "output_type": "stream",
     "text": [
      "/usr/local/lib/python3.6/dist-packages/ipykernel_launcher.py:3: DeprecationWarning: insert is deprecated. Use insert_one or insert_many instead.\n",
      "  This is separate from the ipykernel package so we can avoid doing imports until\n"
     ]
    },
    {
     "data": {
      "text/plain": [
       "ObjectId('5d88c84072d9f0b69286e019')"
      ]
     },
     "execution_count": 12,
     "metadata": {},
     "output_type": "execute_result"
    }
   ],
   "source": [
    "coll.insert({'topic':'recipe', 'title': 'Epicurious - Recipes with Rating and Nutrition', 'license': 'Unknown'\\\n",
    "    , 'description': 'Recipes from Epicurious by rating, nutritional content, and categories - JSON format'\\\n",
    "    , 'urls': 'https://www.kaggle.com/hugodarwood/epirecipes#full_format_recipes.json'})"
   ]
  },
  {
   "cell_type": "code",
   "execution_count": 13,
   "metadata": {},
   "outputs": [
    {
     "name": "stderr",
     "output_type": "stream",
     "text": [
      "/usr/local/lib/python3.6/dist-packages/ipykernel_launcher.py:3: DeprecationWarning: insert is deprecated. Use insert_one or insert_many instead.\n",
      "  This is separate from the ipykernel package so we can avoid doing imports until\n"
     ]
    },
    {
     "data": {
      "text/plain": [
       "ObjectId('5d88c84072d9f0b69286e01a')"
      ]
     },
     "execution_count": 13,
     "metadata": {},
     "output_type": "execute_result"
    }
   ],
   "source": [
    "coll.insert({'topic':'recipe', 'title': 'Recipe box', 'license': 'Unknown'\\\n",
    "    , 'description': 'Structured recipes scraped from food websites'\\\n",
    "    , 'urls': 'https://eightportions.com/datasets/Recipes/#fn:1'})"
   ]
  },
  {
   "cell_type": "code",
   "execution_count": 14,
   "metadata": {},
   "outputs": [
    {
     "name": "stderr",
     "output_type": "stream",
     "text": [
      "/usr/local/lib/python3.6/dist-packages/ipykernel_launcher.py:3: DeprecationWarning: insert is deprecated. Use insert_one or insert_many instead.\n",
      "  This is separate from the ipykernel package so we can avoid doing imports until\n"
     ]
    },
    {
     "data": {
      "text/plain": [
       "ObjectId('5d88c84072d9f0b69286e01b')"
      ]
     },
     "execution_count": 14,
     "metadata": {},
     "output_type": "execute_result"
    }
   ],
   "source": [
    "coll.insert({'topic':'nutrition', 'title': 'Food Nutrition Information', 'license': 'Unknown'\\\n",
    "    , 'description': 'Nutritional information for raw fruits, vegetables, and seafood.'\\\n",
    "    , 'urls': 'https://data.world/adamhelsinger/food-nutrition-information'})"
   ]
  },
  {
   "cell_type": "code",
   "execution_count": 15,
   "metadata": {},
   "outputs": [
    {
     "name": "stderr",
     "output_type": "stream",
     "text": [
      "/usr/local/lib/python3.6/dist-packages/ipykernel_launcher.py:3: DeprecationWarning: insert is deprecated. Use insert_one or insert_many instead.\n",
      "  This is separate from the ipykernel package so we can avoid doing imports until\n"
     ]
    },
    {
     "data": {
      "text/plain": [
       "ObjectId('5d88c84072d9f0b69286e01c')"
      ]
     },
     "execution_count": 15,
     "metadata": {},
     "output_type": "execute_result"
    }
   ],
   "source": [
    "coll.insert({'topic':'nutrition', 'title': 'Nutrition, Physical Activity, and Obesity ', 'license': 'Public Domain'\\\n",
    "    , 'description': 'Behavioral Risk Factor Surveillance System'\\\n",
    "    , 'urls': 'https://chronicdata.cdc.gov/Nutrition-Physical-Activity-and-Obesity/Nutrition-Physical-Activity-and-Obesity-Behavioral/hn4x-zwk7'})"
   ]
  },
  {
   "cell_type": "code",
   "execution_count": 16,
   "metadata": {},
   "outputs": [
    {
     "name": "stderr",
     "output_type": "stream",
     "text": [
      "/usr/local/lib/python3.6/dist-packages/ipykernel_launcher.py:3: DeprecationWarning: insert is deprecated. Use insert_one or insert_many instead.\n",
      "  This is separate from the ipykernel package so we can avoid doing imports until\n"
     ]
    },
    {
     "data": {
      "text/plain": [
       "ObjectId('5d88c84072d9f0b69286e01d')"
      ]
     },
     "execution_count": 16,
     "metadata": {},
     "output_type": "execute_result"
    }
   ],
   "source": [
    "coll.insert({'topic':'nutrition', 'title': 'USDA National Nutrient DB', 'license': 'Unknown'\\\n",
    "    , 'description': 'USDA nutritional data'\\\n",
    "    , 'urls': 'https://data.world/craigkelly/usda-national-nutrient-db'})"
   ]
  },
  {
   "cell_type": "code",
   "execution_count": 17,
   "metadata": {},
   "outputs": [
    {
     "name": "stderr",
     "output_type": "stream",
     "text": [
      "/usr/local/lib/python3.6/dist-packages/ipykernel_launcher.py:3: DeprecationWarning: insert is deprecated. Use insert_one or insert_many instead.\n",
      "  This is separate from the ipykernel package so we can avoid doing imports until\n"
     ]
    },
    {
     "data": {
      "text/plain": [
       "ObjectId('5d88c84072d9f0b69286e01e')"
      ]
     },
     "execution_count": 17,
     "metadata": {},
     "output_type": "execute_result"
    }
   ],
   "source": [
    "coll.insert({'topic':'nutrition', 'title': 'Nutrition Facts for McDonalds Menu', 'license': 'Unknown'\\\n",
    "    , 'description': 'Calories, fat, and sugar for every cheeseburger, fries, and milkshake on menu'\\\n",
    "    , 'urls': 'https://www.kaggle.com/mcdonalds/nutrition-facts'})"
   ]
  },
  {
   "cell_type": "code",
   "execution_count": 18,
   "metadata": {},
   "outputs": [
    {
     "name": "stderr",
     "output_type": "stream",
     "text": [
      "/usr/local/lib/python3.6/dist-packages/ipykernel_launcher.py:3: DeprecationWarning: insert is deprecated. Use insert_one or insert_many instead.\n",
      "  This is separate from the ipykernel package so we can avoid doing imports until\n"
     ]
    },
    {
     "data": {
      "text/plain": [
       "ObjectId('5d88c84072d9f0b69286e01f')"
      ]
     },
     "execution_count": 18,
     "metadata": {},
     "output_type": "execute_result"
    }
   ],
   "source": [
    "coll.insert({'topic':'recipe', 'title': 'Recipe Dataset', 'license': 'Unknown'\\\n",
    "    , 'description': 'An RDF dataset (4-star data) used in the cuisine - drug analysis'\\\n",
    "    , 'urls': 'https://old.datahub.io/dataset/recipe-dataset'})"
   ]
  },
  {
   "cell_type": "code",
   "execution_count": 19,
   "metadata": {},
   "outputs": [
    {
     "name": "stderr",
     "output_type": "stream",
     "text": [
      "/usr/local/lib/python3.6/dist-packages/ipykernel_launcher.py:3: DeprecationWarning: insert is deprecated. Use insert_one or insert_many instead.\n",
      "  This is separate from the ipykernel package so we can avoid doing imports until\n"
     ]
    },
    {
     "data": {
      "text/plain": [
       "ObjectId('5d88c84072d9f0b69286e020')"
      ]
     },
     "execution_count": 19,
     "metadata": {},
     "output_type": "execute_result"
    }
   ],
   "source": [
    "coll.insert({'topic':'recipe', 'title': 'Recipe Dataset', 'license': 'Data files © Original Authors'\\\n",
    "    , 'description': 'German Recipes Dataset'\\\n",
    "    , 'urls': 'https://www.kaggle.com/sterby/german-recipes-dataset'})"
   ]
  },
  {
   "cell_type": "code",
   "execution_count": 20,
   "metadata": {},
   "outputs": [
    {
     "name": "stderr",
     "output_type": "stream",
     "text": [
      "/usr/local/lib/python3.6/dist-packages/ipykernel_launcher.py:3: DeprecationWarning: insert is deprecated. Use insert_one or insert_many instead.\n",
      "  This is separate from the ipykernel package so we can avoid doing imports until\n"
     ]
    },
    {
     "data": {
      "text/plain": [
       "ObjectId('5d88c84072d9f0b69286e021')"
      ]
     },
     "execution_count": 20,
     "metadata": {},
     "output_type": "execute_result"
    }
   ],
   "source": [
    "coll.insert({'topic':'recipe', 'title': 'Recipes Search Engine Results Data', 'license': 'CC0: Public Domain'\\\n",
    "    , 'description': 'Recipe keyword positions on Google and YouTube'\\\n",
    "    , 'urls': 'https://www.kaggle.com/eliasdabbas/recipes-search-engine-results-data'})"
   ]
  },
  {
   "cell_type": "code",
   "execution_count": 21,
   "metadata": {},
   "outputs": [
    {
     "name": "stderr",
     "output_type": "stream",
     "text": [
      "/usr/local/lib/python3.6/dist-packages/ipykernel_launcher.py:3: DeprecationWarning: insert is deprecated. Use insert_one or insert_many instead.\n",
      "  This is separate from the ipykernel package so we can avoid doing imports until\n"
     ]
    },
    {
     "data": {
      "text/plain": [
       "ObjectId('5d88c84072d9f0b69286e022')"
      ]
     },
     "execution_count": 21,
     "metadata": {},
     "output_type": "execute_result"
    }
   ],
   "source": [
    "coll.insert({'topic':'food images', 'title': 'Food Images (Food-101)', 'license': 'Data files © Original Authors'\\\n",
    "    , 'description': 'Recipe keyword positions on Google and YouTube'\\\n",
    "    , 'urls': 'Labeled food images in 101 categories from apple pies to waffles'})"
   ]
  },
  {
   "cell_type": "code",
   "execution_count": 22,
   "metadata": {},
   "outputs": [
    {
     "name": "stderr",
     "output_type": "stream",
     "text": [
      "/usr/local/lib/python3.6/dist-packages/ipykernel_launcher.py:3: DeprecationWarning: insert is deprecated. Use insert_one or insert_many instead.\n",
      "  This is separate from the ipykernel package so we can avoid doing imports until\n"
     ]
    },
    {
     "data": {
      "text/plain": [
       "ObjectId('5d88c84172d9f0b69286e023')"
      ]
     },
     "execution_count": 22,
     "metadata": {},
     "output_type": "execute_result"
    }
   ],
   "source": [
    "coll.insert({'topic':'food images', 'title': 'Food Image Dataset', 'license': 'Unknown'\\\n",
    "    , 'description': 'This is a dataset containing 2500 food and 2500 non-food images'\\\n",
    "    , 'urls': 'https://mmspg.epfl.ch/downloads/food-image-datasets/'})"
   ]
  },
  {
   "cell_type": "code",
   "execution_count": 23,
   "metadata": {
    "scrolled": false
   },
   "outputs": [
    {
     "name": "stdout",
     "output_type": "stream",
     "text": [
      "{'_id': ObjectId('5d82ec5c72d9f04227e565a0'),\n",
      " 'description': 'Explore nutrition facts from foods around the '\n",
      "                'world',\n",
      " 'license': 'Open Database',\n",
      " 'title': 'Open Food Facts',\n",
      " 'topic': 'nutrition',\n",
      " 'urls': 'https://www.kaggle.com/openfoodfacts/world-food-facts'}\n",
      "{'_id': ObjectId('5d82ecf372d9f04227e565a1'),\n",
      " 'description': 'Google search interest can reveal key food '\n",
      "                'trends over the years.',\n",
      " 'license': 'CC BY-SA 4.0',\n",
      " 'title': 'Food searches on Google since 2004',\n",
      " 'topic': 'nutrition',\n",
      " 'urls': 'https://www.kaggle.com/GoogleNewsLab/food-searches-on-google-since-2004'}\n",
      "{'_id': ObjectId('5d82ee2672d9f04227e565a2'),\n",
      " 'description': 'Nutrition information for Starbucks menu '\n",
      "                'items, including food and drinks',\n",
      " 'license': 'Public Domain',\n",
      " 'title': 'Nutrition facts for Starbucks Menu',\n",
      " 'topic': 'nutrition',\n",
      " 'urls': 'https://www.kaggle.com/starbucks/starbucks-menu'}\n",
      "{'_id': ObjectId('5d82ef5072d9f04227e565a3'),\n",
      " 'description': 'Volume of commodities across all stages of the '\n",
      "                'supply chain.',\n",
      " 'license': 'CC BY-SA 3.0',\n",
      " 'title': 'Food Balance Sheets',\n",
      " 'topic': 'food volumes',\n",
      " 'urls': 'https://www.kaggle.com/cameronappel/food-balance-sheet-europe'}\n",
      "{'_id': ObjectId('5d82efcc72d9f04227e565a4'),\n",
      " 'description': 'A list of 10,000 food products and their '\n",
      "                'ingredients.',\n",
      " 'license': 'CC BY-NC-SA 4.0',\n",
      " 'title': 'Food Ingredient Lists',\n",
      " 'topic': 'nutrition',\n",
      " 'urls': 'https://www.kaggle.com/datafiniti/food-ingredient-lists'}\n",
      "{'_id': ObjectId('5d82f10a72d9f04227e565a5'),\n",
      " 'description': 'Nutritional values for ~8.8k types of food',\n",
      " 'license': 'CC0: Public Domain',\n",
      " 'title': 'Nutritional values for common foods and products',\n",
      " 'topic': 'nutrition',\n",
      " 'urls': 'https://www.kaggle.com/trolukovich/nutritional-values-for-common-foods-and-products'}\n",
      "{'_id': ObjectId('5d82f75672d9f04227e565a6'),\n",
      " 'description': 'REST API-intended to assist application '\n",
      "                'developers wishing to incorporate nutrient '\n",
      "                'data',\n",
      " 'license': 'Public Domain',\n",
      " 'title': 'USDA Food Composition Databases',\n",
      " 'topic': 'nutrition',\n",
      " 'urls': 'https://ndb.nal.usda.gov/ndb/doc/index'}\n",
      "{'_id': ObjectId('5d82fa0172d9f04227e565a7'),\n",
      " 'description': 'REST API-nutritional breakdown of common foods',\n",
      " 'license': 'Proprietary',\n",
      " 'title': 'Nutrition & Exercise API',\n",
      " 'topic': 'nutrition',\n",
      " 'urls': 'https://www.nutritionix.com/business/api'}\n",
      "{'_id': ObjectId('5d83a15c72d9f07eaa1b721e'),\n",
      " 'description': 'Explore nutrition facts from foods around the '\n",
      "                'world',\n",
      " 'license': 'Open Database',\n",
      " 'title': 'Open Food Facts',\n",
      " 'topic': 'nutrition',\n",
      " 'urls': 'https://www.kaggle.com/openfoodfacts/world-food-facts'}\n",
      "{'_id': ObjectId('5d83a15c72d9f07eaa1b721f'),\n",
      " 'description': 'Google search interest can reveal key food '\n",
      "                'trends over the years.',\n",
      " 'license': 'CC BY-SA 4.0',\n",
      " 'title': 'Food searches on Google since 2004',\n",
      " 'topic': 'nutrition',\n",
      " 'urls': 'https://www.kaggle.com/GoogleNewsLab/food-searches-on-google-since-2004'}\n",
      "{'_id': ObjectId('5d83a15c72d9f07eaa1b7220'),\n",
      " 'description': 'Nutrition information for Starbucks menu '\n",
      "                'items, including food and drinks',\n",
      " 'license': 'Public Domain',\n",
      " 'title': 'Nutrition facts for Starbucks Menu',\n",
      " 'topic': 'nutrition',\n",
      " 'urls': 'https://www.kaggle.com/starbucks/starbucks-menu'}\n",
      "{'_id': ObjectId('5d83a15c72d9f07eaa1b7221'),\n",
      " 'description': 'Volume of commodities across all stages of the '\n",
      "                'supply chain.',\n",
      " 'license': 'CC BY-SA 3.0',\n",
      " 'title': 'Food Balance Sheets',\n",
      " 'topic': 'food volumes',\n",
      " 'urls': 'https://www.kaggle.com/cameronappel/food-balance-sheet-europe'}\n",
      "{'_id': ObjectId('5d83a15c72d9f07eaa1b7222'),\n",
      " 'description': 'A list of 10,000 food products and their '\n",
      "                'ingredients.',\n",
      " 'license': 'CC BY-NC-SA 4.0',\n",
      " 'title': 'Food Ingredient Lists',\n",
      " 'topic': 'nutrition',\n",
      " 'urls': 'https://www.kaggle.com/datafiniti/food-ingredient-lists'}\n",
      "{'_id': ObjectId('5d83a15c72d9f07eaa1b7223'),\n",
      " 'description': 'Nutritional values for ~8.8k types of food',\n",
      " 'license': 'CC0: Public Domain',\n",
      " 'title': 'Nutritional values for common foods and products',\n",
      " 'topic': 'nutrition',\n",
      " 'urls': 'https://www.kaggle.com/trolukovich/nutritional-values-for-common-foods-and-products'}\n",
      "{'_id': ObjectId('5d83a15c72d9f07eaa1b7224'),\n",
      " 'description': 'REST API-intended to assist application '\n",
      "                'developers wishing to incorporate nutrient '\n",
      "                'data',\n",
      " 'license': 'Public Domain',\n",
      " 'title': 'USDA Food Composition Databases',\n",
      " 'topic': 'nutrition',\n",
      " 'urls': 'https://ndb.nal.usda.gov/ndb/doc/index'}\n",
      "{'_id': ObjectId('5d83a15c72d9f07eaa1b7225'),\n",
      " 'description': 'REST API-nutritional breakdown of common foods',\n",
      " 'license': 'Proprietary',\n",
      " 'title': 'Nutrition & Exercise API',\n",
      " 'topic': 'nutrition',\n",
      " 'urls': 'https://www.nutritionix.com/business/api'}\n",
      "{'_id': ObjectId('5d83cc5572d9f07eaa1b7226'),\n",
      " 'description': 'Use Recipe Ingredients to Categorize the '\n",
      "                'Cuisine by region - JSON format',\n",
      " 'license': 'Unknown',\n",
      " 'title': 'Recipe Ingredients Dataset',\n",
      " 'topic': 'recipe',\n",
      " 'urls': 'https://www.kaggle.com/kaggle/recipe-ingredients-dataset#train.json'}\n",
      "{'_id': ObjectId('5d83cce672d9f07eaa1b7227'),\n",
      " 'description': 'Recipes from Epicurious by rating, nutritional '\n",
      "                'content, and categories - JSON format',\n",
      " 'license': 'Unknown',\n",
      " 'title': 'Epicurious - Recipes with Rating and Nutrition',\n",
      " 'topic': 'recipe',\n",
      " 'urls': 'https://www.kaggle.com/hugodarwood/epirecipes#full_format_recipes.json'}\n",
      "{'_id': ObjectId('5d83cdd372d9f07eaa1b7228'),\n",
      " 'description': 'Structured recipes scraped from food websites',\n",
      " 'license': 'Unknown',\n",
      " 'title': 'Recipe box',\n",
      " 'topic': 'recipe',\n",
      " 'urls': 'https://eightportions.com/datasets/Recipes/#fn:1'}\n",
      "{'_id': ObjectId('5d83cfc172d9f08e49e6d968'),\n",
      " 'description': 'Explore nutrition facts from foods around the '\n",
      "                'world',\n",
      " 'license': 'Open Database',\n",
      " 'title': 'Open Food Facts',\n",
      " 'topic': 'nutrition',\n",
      " 'urls': 'https://www.kaggle.com/openfoodfacts/world-food-facts'}\n",
      "{'_id': ObjectId('5d83cfc172d9f08e49e6d969'),\n",
      " 'description': 'Google search interest can reveal key food '\n",
      "                'trends over the years.',\n",
      " 'license': 'CC BY-SA 4.0',\n",
      " 'title': 'Food searches on Google since 2004',\n",
      " 'topic': 'nutrition',\n",
      " 'urls': 'https://www.kaggle.com/GoogleNewsLab/food-searches-on-google-since-2004'}\n",
      "{'_id': ObjectId('5d83cfc172d9f08e49e6d96a'),\n",
      " 'description': 'Nutrition information for Starbucks menu '\n",
      "                'items, including food and drinks',\n",
      " 'license': 'Public Domain',\n",
      " 'title': 'Nutrition facts for Starbucks Menu',\n",
      " 'topic': 'nutrition',\n",
      " 'urls': 'https://www.kaggle.com/starbucks/starbucks-menu'}\n",
      "{'_id': ObjectId('5d83cfc172d9f08e49e6d96b'),\n",
      " 'description': 'Volume of commodities across all stages of the '\n",
      "                'supply chain.',\n",
      " 'license': 'CC BY-SA 3.0',\n",
      " 'title': 'Food Balance Sheets',\n",
      " 'topic': 'food volumes',\n",
      " 'urls': 'https://www.kaggle.com/cameronappel/food-balance-sheet-europe'}\n",
      "{'_id': ObjectId('5d83cfc172d9f08e49e6d96c'),\n",
      " 'description': 'A list of 10,000 food products and their '\n",
      "                'ingredients.',\n",
      " 'license': 'CC BY-NC-SA 4.0',\n",
      " 'title': 'Food Ingredient Lists',\n",
      " 'topic': 'nutrition',\n",
      " 'urls': 'https://www.kaggle.com/datafiniti/food-ingredient-lists'}\n",
      "{'_id': ObjectId('5d83cfc172d9f08e49e6d96d'),\n",
      " 'description': 'Nutritional values for ~8.8k types of food',\n",
      " 'license': 'CC0: Public Domain',\n",
      " 'title': 'Nutritional values for common foods and products',\n",
      " 'topic': 'nutrition',\n",
      " 'urls': 'https://www.kaggle.com/trolukovich/nutritional-values-for-common-foods-and-products'}\n",
      "{'_id': ObjectId('5d83cfc172d9f08e49e6d96e'),\n",
      " 'description': 'REST API-intended to assist application '\n",
      "                'developers wishing to incorporate nutrient '\n",
      "                'data',\n",
      " 'license': 'Public Domain',\n",
      " 'title': 'USDA Food Composition Databases',\n",
      " 'topic': 'nutrition',\n",
      " 'urls': 'https://ndb.nal.usda.gov/ndb/doc/index'}\n",
      "{'_id': ObjectId('5d83cfc172d9f08e49e6d96f'),\n",
      " 'description': 'REST API-nutritional breakdown of common foods',\n",
      " 'license': 'Proprietary',\n",
      " 'title': 'Nutrition & Exercise API',\n",
      " 'topic': 'nutrition',\n",
      " 'urls': 'https://www.nutritionix.com/business/api'}\n",
      "{'_id': ObjectId('5d83cfc172d9f08e49e6d970'),\n",
      " 'description': 'Use Recipe Ingredients to Categorize the '\n",
      "                'Cuisine by region - JSON format',\n",
      " 'license': 'Unknown',\n",
      " 'title': 'Recipe Ingredients Dataset',\n",
      " 'topic': 'recipe',\n",
      " 'urls': 'https://www.kaggle.com/kaggle/recipe-ingredients-dataset#train.json'}\n",
      "{'_id': ObjectId('5d83cfc172d9f08e49e6d971'),\n",
      " 'description': 'Recipes from Epicurious by rating, nutritional '\n",
      "                'content, and categories - JSON format',\n",
      " 'license': 'Unknown',\n",
      " 'title': 'Epicurious - Recipes with Rating and Nutrition',\n",
      " 'topic': 'recipe',\n",
      " 'urls': 'https://www.kaggle.com/hugodarwood/epirecipes#full_format_recipes.json'}\n",
      "{'_id': ObjectId('5d83cfc172d9f08e49e6d972'),\n",
      " 'description': 'Structured recipes scraped from food websites',\n",
      " 'license': 'Unknown',\n",
      " 'title': 'Recipe box',\n",
      " 'topic': 'recipe',\n",
      " 'urls': 'https://eightportions.com/datasets/Recipes/#fn:1'}\n",
      "{'_id': ObjectId('5d88c27e72d9f08e49e6d973'),\n",
      " 'description': 'Nutritional information for raw fruits, '\n",
      "                'vegetables, and seafood.',\n",
      " 'license': 'Unknown',\n",
      " 'title': 'Food Nutrition Information',\n",
      " 'topic': 'nutrition',\n",
      " 'urls': 'https://data.world/adamhelsinger/food-nutrition-information'}\n",
      "{'_id': ObjectId('5d88c2fd72d9f08e49e6d974'),\n",
      " 'description': 'Behavioral Risk Factor Surveillance System',\n",
      " 'license': 'Public Domain',\n",
      " 'title': 'Nutrition, Physical Activity, and Obesity ',\n",
      " 'topic': 'nutrition',\n",
      " 'urls': 'https://chronicdata.cdc.gov/Nutrition-Physical-Activity-and-Obesity/Nutrition-Physical-Activity-and-Obesity-Behavioral/hn4x-zwk7'}\n",
      "{'_id': ObjectId('5d88c44072d9f08e49e6d975'),\n",
      " 'description': 'USDA nutritional data',\n",
      " 'license': 'Unknown',\n",
      " 'title': 'USDA National Nutrient DB',\n",
      " 'topic': 'nutrition',\n",
      " 'urls': 'https://data.world/craigkelly/usda-national-nutrient-db'}\n",
      "{'_id': ObjectId('5d88c49a72d9f08e49e6d976'),\n",
      " 'description': 'Calories, fat, and sugar for every '\n",
      "                'cheeseburger, fries, and milkshake on menu',\n",
      " 'license': 'Unknown',\n",
      " 'title': 'Nutrition Facts for McDonalds Menu',\n",
      " 'topic': 'nutrition',\n",
      " 'urls': 'https://www.kaggle.com/mcdonalds/nutrition-facts'}\n",
      "{'_id': ObjectId('5d88c5cb72d9f08e49e6d977'),\n",
      " 'description': 'An RDF dataset (4-star data) used in the '\n",
      "                'cuisine - drug analysis',\n",
      " 'license': 'Unknown',\n",
      " 'title': 'Recipe Dataset',\n",
      " 'topic': 'nutrition',\n",
      " 'urls': 'https://old.datahub.io/dataset/recipe-dataset'}\n",
      "{'_id': ObjectId('5d88c65272d9f08e49e6d978'),\n",
      " 'description': 'German Recipes Dataset',\n",
      " 'license': 'Data files © Original Authors',\n",
      " 'title': 'Recipe Dataset',\n",
      " 'topic': 'recipe',\n",
      " 'urls': 'https://www.kaggle.com/sterby/german-recipes-dataset'}\n",
      "{'_id': ObjectId('5d88c6ed72d9f08e49e6d979'),\n",
      " 'description': 'Recipe keyword positions on Google and YouTube',\n",
      " 'license': 'CC0: Public Domain',\n",
      " 'title': 'Recipes Search Engine Results Data',\n",
      " 'topic': 'recipe',\n",
      " 'urls': 'https://www.kaggle.com/eliasdabbas/recipes-search-engine-results-data'}\n",
      "{'_id': ObjectId('5d88c7b072d9f08e49e6d97a'),\n",
      " 'description': 'Recipe keyword positions on Google and YouTube',\n",
      " 'license': 'Data files © Original Authors',\n",
      " 'title': 'Food Images (Food-101)',\n",
      " 'topic': 'food images',\n",
      " 'urls': 'Labeled food images in 101 categories from apple pies '\n",
      "         'to waffles'}\n",
      "{'_id': ObjectId('5d88c81372d9f08e49e6d97b'),\n",
      " 'description': 'This is a dataset containing 2500 food and '\n",
      "                '2500 non-food images',\n",
      " 'license': 'Unknown',\n",
      " 'title': 'Food Image Dataset',\n",
      " 'topic': 'food images',\n",
      " 'urls': 'https://mmspg.epfl.ch/downloads/food-image-datasets/'}\n",
      "{'_id': ObjectId('5d88c84072d9f0b69286e010'),\n",
      " 'description': 'Explore nutrition facts from foods around the '\n",
      "                'world',\n",
      " 'license': 'Open Database',\n",
      " 'title': 'Open Food Facts',\n",
      " 'topic': 'nutrition',\n",
      " 'urls': 'https://www.kaggle.com/openfoodfacts/world-food-facts'}\n",
      "{'_id': ObjectId('5d88c84072d9f0b69286e011'),\n",
      " 'description': 'Google search interest can reveal key food '\n",
      "                'trends over the years.',\n",
      " 'license': 'CC BY-SA 4.0',\n",
      " 'title': 'Food searches on Google since 2004',\n",
      " 'topic': 'nutrition',\n",
      " 'urls': 'https://www.kaggle.com/GoogleNewsLab/food-searches-on-google-since-2004'}\n",
      "{'_id': ObjectId('5d88c84072d9f0b69286e012'),\n",
      " 'description': 'Nutrition information for Starbucks menu '\n",
      "                'items, including food and drinks',\n",
      " 'license': 'Public Domain',\n",
      " 'title': 'Nutrition facts for Starbucks Menu',\n",
      " 'topic': 'nutrition',\n",
      " 'urls': 'https://www.kaggle.com/starbucks/starbucks-menu'}\n",
      "{'_id': ObjectId('5d88c84072d9f0b69286e013'),\n",
      " 'description': 'Volume of commodities across all stages of the '\n",
      "                'supply chain.',\n",
      " 'license': 'CC BY-SA 3.0',\n",
      " 'title': 'Food Balance Sheets',\n",
      " 'topic': 'food volumes',\n",
      " 'urls': 'https://www.kaggle.com/cameronappel/food-balance-sheet-europe'}\n",
      "{'_id': ObjectId('5d88c84072d9f0b69286e014'),\n",
      " 'description': 'A list of 10,000 food products and their '\n",
      "                'ingredients.',\n",
      " 'license': 'CC BY-NC-SA 4.0',\n",
      " 'title': 'Food Ingredient Lists',\n",
      " 'topic': 'nutrition',\n",
      " 'urls': 'https://www.kaggle.com/datafiniti/food-ingredient-lists'}\n",
      "{'_id': ObjectId('5d88c84072d9f0b69286e015'),\n",
      " 'description': 'Nutritional values for ~8.8k types of food',\n",
      " 'license': 'CC0: Public Domain',\n",
      " 'title': 'Nutritional values for common foods and products',\n",
      " 'topic': 'nutrition',\n",
      " 'urls': 'https://www.kaggle.com/trolukovich/nutritional-values-for-common-foods-and-products'}\n",
      "{'_id': ObjectId('5d88c84072d9f0b69286e016'),\n",
      " 'description': 'REST API-intended to assist application '\n",
      "                'developers wishing to incorporate nutrient '\n",
      "                'data',\n",
      " 'license': 'Public Domain',\n",
      " 'title': 'USDA Food Composition Databases',\n",
      " 'topic': 'nutrition',\n",
      " 'urls': 'https://ndb.nal.usda.gov/ndb/doc/index'}\n",
      "{'_id': ObjectId('5d88c84072d9f0b69286e017'),\n",
      " 'description': 'REST API-nutritional breakdown of common foods',\n",
      " 'license': 'Proprietary',\n",
      " 'title': 'Nutrition & Exercise API',\n",
      " 'topic': 'nutrition',\n",
      " 'urls': 'https://www.nutritionix.com/business/api'}\n",
      "{'_id': ObjectId('5d88c84072d9f0b69286e018'),\n",
      " 'description': 'Use Recipe Ingredients to Categorize the '\n",
      "                'Cuisine by region - JSON format',\n",
      " 'license': 'Unknown',\n",
      " 'title': 'Recipe Ingredients Dataset',\n",
      " 'topic': 'recipe',\n",
      " 'urls': 'https://www.kaggle.com/kaggle/recipe-ingredients-dataset#train.json'}\n",
      "{'_id': ObjectId('5d88c84072d9f0b69286e019'),\n",
      " 'description': 'Recipes from Epicurious by rating, nutritional '\n",
      "                'content, and categories - JSON format',\n",
      " 'license': 'Unknown',\n",
      " 'title': 'Epicurious - Recipes with Rating and Nutrition',\n",
      " 'topic': 'recipe',\n",
      " 'urls': 'https://www.kaggle.com/hugodarwood/epirecipes#full_format_recipes.json'}\n",
      "{'_id': ObjectId('5d88c84072d9f0b69286e01a'),\n",
      " 'description': 'Structured recipes scraped from food websites',\n",
      " 'license': 'Unknown',\n",
      " 'title': 'Recipe box',\n",
      " 'topic': 'recipe',\n",
      " 'urls': 'https://eightportions.com/datasets/Recipes/#fn:1'}\n",
      "{'_id': ObjectId('5d88c84072d9f0b69286e01b'),\n",
      " 'description': 'Nutritional information for raw fruits, '\n",
      "                'vegetables, and seafood.',\n",
      " 'license': 'Unknown',\n",
      " 'title': 'Food Nutrition Information',\n",
      " 'topic': 'nutrition',\n",
      " 'urls': 'https://data.world/adamhelsinger/food-nutrition-information'}\n",
      "{'_id': ObjectId('5d88c84072d9f0b69286e01c'),\n",
      " 'description': 'Behavioral Risk Factor Surveillance System',\n",
      " 'license': 'Public Domain',\n",
      " 'title': 'Nutrition, Physical Activity, and Obesity ',\n",
      " 'topic': 'nutrition',\n",
      " 'urls': 'https://chronicdata.cdc.gov/Nutrition-Physical-Activity-and-Obesity/Nutrition-Physical-Activity-and-Obesity-Behavioral/hn4x-zwk7'}\n",
      "{'_id': ObjectId('5d88c84072d9f0b69286e01d'),\n",
      " 'description': 'USDA nutritional data',\n",
      " 'license': 'Unknown',\n",
      " 'title': 'USDA National Nutrient DB',\n",
      " 'topic': 'nutrition',\n",
      " 'urls': 'https://data.world/craigkelly/usda-national-nutrient-db'}\n",
      "{'_id': ObjectId('5d88c84072d9f0b69286e01e'),\n",
      " 'description': 'Calories, fat, and sugar for every '\n",
      "                'cheeseburger, fries, and milkshake on menu',\n",
      " 'license': 'Unknown',\n",
      " 'title': 'Nutrition Facts for McDonalds Menu',\n",
      " 'topic': 'nutrition',\n",
      " 'urls': 'https://www.kaggle.com/mcdonalds/nutrition-facts'}\n",
      "{'_id': ObjectId('5d88c84072d9f0b69286e01f'),\n",
      " 'description': 'An RDF dataset (4-star data) used in the '\n",
      "                'cuisine - drug analysis',\n",
      " 'license': 'Unknown',\n",
      " 'title': 'Recipe Dataset',\n",
      " 'topic': 'recipe',\n",
      " 'urls': 'https://old.datahub.io/dataset/recipe-dataset'}\n",
      "{'_id': ObjectId('5d88c84072d9f0b69286e020'),\n",
      " 'description': 'German Recipes Dataset',\n",
      " 'license': 'Data files © Original Authors',\n",
      " 'title': 'Recipe Dataset',\n",
      " 'topic': 'recipe',\n",
      " 'urls': 'https://www.kaggle.com/sterby/german-recipes-dataset'}\n",
      "{'_id': ObjectId('5d88c84072d9f0b69286e021'),\n",
      " 'description': 'Recipe keyword positions on Google and YouTube',\n",
      " 'license': 'CC0: Public Domain',\n",
      " 'title': 'Recipes Search Engine Results Data',\n",
      " 'topic': 'recipe',\n",
      " 'urls': 'https://www.kaggle.com/eliasdabbas/recipes-search-engine-results-data'}\n",
      "{'_id': ObjectId('5d88c84072d9f0b69286e022'),\n",
      " 'description': 'Recipe keyword positions on Google and YouTube',\n",
      " 'license': 'Data files © Original Authors',\n",
      " 'title': 'Food Images (Food-101)',\n",
      " 'topic': 'food images',\n",
      " 'urls': 'Labeled food images in 101 categories from apple pies '\n",
      "         'to waffles'}\n",
      "{'_id': ObjectId('5d88c84172d9f0b69286e023'),\n",
      " 'description': 'This is a dataset containing 2500 food and '\n",
      "                '2500 non-food images',\n",
      " 'license': 'Unknown',\n",
      " 'title': 'Food Image Dataset',\n",
      " 'topic': 'food images',\n",
      " 'urls': 'https://mmspg.epfl.ch/downloads/food-image-datasets/'}\n"
     ]
    }
   ],
   "source": [
    "import pprint\n",
    "\n",
    "pp = pprint.PrettyPrinter(indent=1, width=65)\n",
    "\n",
    "for r in coll.find():\n",
    "  print(pp.pformat(r))  "
   ]
  }
 ],
 "metadata": {
  "kernelspec": {
   "display_name": "Python 3",
   "language": "python",
   "name": "python3"
  },
  "language_info": {
   "codemirror_mode": {
    "name": "ipython",
    "version": 3
   },
   "file_extension": ".py",
   "mimetype": "text/x-python",
   "name": "python",
   "nbconvert_exporter": "python",
   "pygments_lexer": "ipython3",
   "version": "3.6.7"
  }
 },
 "nbformat": 4,
 "nbformat_minor": 2
}
