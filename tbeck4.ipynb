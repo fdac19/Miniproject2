{
 "cells": [
  {
   "cell_type": "code",
   "execution_count": 4,
   "metadata": {},
   "outputs": [
    {
     "name": "stderr",
     "output_type": "stream",
     "text": [
      "/usr/local/lib/python3.6/dist-packages/ipykernel_launcher.py:15: DeprecationWarning: insert is deprecated. Use insert_one or insert_many instead.\n",
      "  from ipykernel import kernelapp as app\n",
      "/usr/local/lib/python3.6/dist-packages/ipykernel_launcher.py:17: DeprecationWarning: insert is deprecated. Use insert_one or insert_many instead.\n",
      "/usr/local/lib/python3.6/dist-packages/ipykernel_launcher.py:19: DeprecationWarning: insert is deprecated. Use insert_one or insert_many instead.\n",
      "/usr/local/lib/python3.6/dist-packages/ipykernel_launcher.py:21: DeprecationWarning: insert is deprecated. Use insert_one or insert_many instead.\n",
      "/usr/local/lib/python3.6/dist-packages/ipykernel_launcher.py:23: DeprecationWarning: insert is deprecated. Use insert_one or insert_many instead.\n",
      "/usr/local/lib/python3.6/dist-packages/ipykernel_launcher.py:25: DeprecationWarning: insert is deprecated. Use insert_one or insert_many instead.\n",
      "/usr/local/lib/python3.6/dist-packages/ipykernel_launcher.py:27: DeprecationWarning: insert is deprecated. Use insert_one or insert_many instead.\n",
      "/usr/local/lib/python3.6/dist-packages/ipykernel_launcher.py:29: DeprecationWarning: insert is deprecated. Use insert_one or insert_many instead.\n",
      "/usr/local/lib/python3.6/dist-packages/ipykernel_launcher.py:31: DeprecationWarning: insert is deprecated. Use insert_one or insert_many instead.\n",
      "/usr/local/lib/python3.6/dist-packages/ipykernel_launcher.py:33: DeprecationWarning: insert is deprecated. Use insert_one or insert_many instead.\n",
      "/usr/local/lib/python3.6/dist-packages/ipykernel_launcher.py:35: DeprecationWarning: insert is deprecated. Use insert_one or insert_many instead.\n",
      "/usr/local/lib/python3.6/dist-packages/ipykernel_launcher.py:37: DeprecationWarning: insert is deprecated. Use insert_one or insert_many instead.\n",
      "/usr/local/lib/python3.6/dist-packages/ipykernel_launcher.py:39: DeprecationWarning: insert is deprecated. Use insert_one or insert_many instead.\n",
      "/usr/local/lib/python3.6/dist-packages/ipykernel_launcher.py:41: DeprecationWarning: insert is deprecated. Use insert_one or insert_many instead.\n",
      "/usr/local/lib/python3.6/dist-packages/ipykernel_launcher.py:43: DeprecationWarning: insert is deprecated. Use insert_one or insert_many instead.\n",
      "/usr/local/lib/python3.6/dist-packages/ipykernel_launcher.py:45: DeprecationWarning: insert is deprecated. Use insert_one or insert_many instead.\n",
      "/usr/local/lib/python3.6/dist-packages/ipykernel_launcher.py:47: DeprecationWarning: insert is deprecated. Use insert_one or insert_many instead.\n",
      "/usr/local/lib/python3.6/dist-packages/ipykernel_launcher.py:49: DeprecationWarning: insert is deprecated. Use insert_one or insert_many instead.\n",
      "/usr/local/lib/python3.6/dist-packages/ipykernel_launcher.py:51: DeprecationWarning: insert is deprecated. Use insert_one or insert_many instead.\n",
      "/usr/local/lib/python3.6/dist-packages/ipykernel_launcher.py:53: DeprecationWarning: insert is deprecated. Use insert_one or insert_many instead.\n"
     ]
    },
    {
     "data": {
      "text/plain": [
       "ObjectId('5d88ed50402a2f89af2ca894')"
      ]
     },
     "execution_count": 4,
     "metadata": {},
     "output_type": "execute_result"
    }
   ],
   "source": [
    "import pprint\n",
    "import re\n",
    "import pymongo, json\n",
    "\n",
    "db.tbeck4.drop()\n",
    "\n",
    "pp = pprint.PrettyPrinter(indent=1,width=65)\n",
    "\n",
    "client = pymongo.MongoClient (host=\"da1.eecs.utk.edu\")\n",
    "db = client ['fdac19mp2']\n",
    "\n",
    "coll = db ['tbeck4']\n",
    "\n",
    "# for each dataset\n",
    "coll.insert ( { 'topic':'Nuclear Energy', 'title': 'Plant status for last 365 days', 'license': 'CC-0', 'description': 'U.S. commercial nuclear plant status for every active reactor', 'urls': [ 'https://www.nrc.gov/reading-rm/doc-collections/event-status/reactor-status/PowerReactorStatusForLast365Days.txt'] } )\n",
    "\n",
    "coll.insert ( { 'topic':'Nuclear Energy', 'title': 'Operating reactors', 'license': 'CC-0', 'description': 'Active commercial U.S. nuclear plants', 'urls': [ 'https://catalog.data.gov/dataset/us-commercial-nuclear-power-reactors/resource/5ff5bae9-4c0b-44b1-aa8b-4e1382cb29ae'] } )\n",
    "\n",
    "coll.insert ( { 'topic':'Nuclear Energy', 'title': 'Nuclear power accidents', 'license': 'other', 'description': 'Collection of all nuclear reactor accidents', 'urls': [ 'https://xyotta.com/v1/index.php/Nuclear_events_database'] } )\n",
    "\n",
    "coll.insert ( { 'topic':'Nuclear Energy', 'title': 'Nuclear energy, and health issues public perception study/survey', 'license': 'https://www.icpsr.umich.edu/icpsrweb/ICPSR/studies/21460/terms', 'description': 'Survey of public perception on nuclear energy and some health-related fields (non-public)', 'urls': [ 'https://www.icpsr.umich.edu/icpsrweb/ICPSR/studies/21460/version/2'] } )\n",
    "\n",
    "coll.insert ( { 'topic':'Nuclear Energy', 'title': 'Emotions about nuclear energy', 'license': 'Public domain', 'description': 'Collection of tweets regarding nuclear energy and the sentiment of the tweet', 'urls': [ 'https://data.world/crowdflower/emotions-about-nuclear-energy'] } )\n",
    "\n",
    "coll.insert ( { 'topic':'Nuclear Energy', 'title': 'Public opinion nuclear energy', 'license': 'https://www.icpsr.umich.edu/icpsrweb/ICPSR/studies/34871/terms', 'description': 'Public opinions on nuclear energy, taken from public hearings with regards to expansion of V.C. Summer plant (non-public)', 'urls': [ 'https://www.icpsr.umich.edu/icpsrweb/ICPSR/studies/34871/datadocumentation'] } )\n",
    "\n",
    "coll.insert ( { 'topic':'Nuclear Energy', 'title': 'Effect of Fukushima disaster on global perception of nuclear energy', 'license': 'request access', 'description': 'Global perception of nuclear in countries that have (or had) existing nuclear with respect to the Fukushima disaster (non-public)', 'urls': [ 'https://www.researchgate.net/publication/264707826_Effect_of_Fukushima_Nuclear_Disaster_on_the_Global_Public_Acceptance_of_Nuclear_Energy'] } )\n",
    "\n",
    "coll.insert ( { 'topic':'Nuclear Energy', 'title': 'Cancelled U.S. commercial power reactors', 'license': 'CC-0', 'description': 'Nuclear plants have a history of not meeting budget and a timely construction. As a result, there are various instances of plants being cancelled altogether, even after a fair amount of the construction has been completed.', 'urls': [ 'https://catalog.data.gov/dataset/cancelled-us-commercial-nuclear-power-reactors'] } )\n",
    "\n",
    "coll.insert ( { 'topic':'Nuclear Energy', 'title': 'Consumer willingless to pay for nuclear or other renewable energy in U.S. and Japan', 'license': 'CC-3', 'description': 'examines consumers willingness to pay for nuclear and renewable electricity as two alternatives to fossil fuels for the reduction of greenhouse gas emissions. We conduct a choice experiment of consumer-stated preferences on the basis of an online survey in four US states and Japan after the Fukushima nuclear plant accident', 'urls': [ 'https://data.mendeley.com/datasets/8f7g9gkxp4/1'] } )\n",
    "\n",
    "coll.insert ( { 'topic':'Nuclear Energy', 'title': 'Nuclear Safety contracts', 'license': 'Public domain', 'description': 'The objective of this content type is to make available to European policy makers relevant data describing the impact of Nuclear Safety contracts in order to facilitate related high level decision making, improving the safety of nuclear power plants outside the European Union.', 'urls': [ 'https://data.jrc.ec.europa.eu/dataset/jrc-tipins-nuclear-safety-contracts'] } )\n",
    "\n",
    "coll.insert ( { 'topic':'Nuclear Energy', 'title': 'Australian Radiation Protection and Nuclear Safety Agency FOI Disclosure Log', 'license': 'CC-3', 'description': 'Australian Radiation Protection and Nuclear Safety Agency Freedom of Information (FOI) disclosure log', 'urls': [ 'https://data.gov.au/data/dataset/359886fd-4238-4c0f-821c-d26e40ae7335'] } )\n",
    "\n",
    "coll.insert ( { 'topic':'Nuclear Energy', 'title': 'Australian Radiation Protection and Nuclear Safety Agency FOI Disclosure Log', 'license': 'CC-3', 'description': 'The STRESA (Storage of Thermal REactor Safety Analysis Data) information system is a repository of thermal hydraulic experimental data (severe accident and pure thermal hydraulics) for nuclear power reactor safety analyses.', 'urls': [ 'https://data.gov.au/data/dataset/359886fd-4238-4c0f-821c-d26e40ae7335'] } )\n",
    "\n",
    "coll.insert ( { 'topic':'Nuclear Energy', 'title': 'Storage of Thermal REactor Safety Analysis Data - Tools, experiments and data', 'license': 'CC-3', 'description': 'The STRESA (Storage of Thermal REactor Safety Analysis Data) information system is a repository of thermal hydraulic experimental data (severe accident and pure thermal hydraulics) for nuclear power reactor safety analyses.', 'urls': [ 'https://data.gov.au/data/dataset/359886fd-4238-4c0f-821c-d26e40ae7335'] } )\n",
    "\n",
    "coll.insert ( { 'topic':'Nuclear Energy', 'title': 'Public Attitude Towards Nuclear Power in Kazakhstan', 'license': 'CC-3', 'description': 'The data are from personal interviews with 113 adults from Astana, Kazakhstan and 91 adults from Aktau, Kazakhstan. The information gathered pertained to the acceptance of nuclear power, perceived safety risks of nuclear power, perceived environmental risks of nuclear power, compensation effects, socioeconomic characteristics, and previous experience with the nuclear industry.', 'urls': [ 'https://data.mendeley.com/datasets/x93b9fp7pc/1'] } )\n",
    "\n",
    "coll.insert ( { 'topic':'Nuclear Energy', 'title': 'Nuclear Power Plants (NPP) records', 'license': 'Public domain', 'description': 'The objective of this content type is to complement the information of the OEF records with the technical details of the related nuclear facilities.', 'urls': [ 'https://data.jrc.ec.europa.eu/dataset/jrc-ch-oef-npp-dataset'] } )\n",
    "\n",
    "coll.insert ( { 'topic':'Nuclear Energy', 'title': 'Advanced Fuel Forms for Nuclear Thermal Propulsion Applications', 'license': 'Public domain', 'description': 'Under NSTRF15, the goal of this project is to aid the development of nuclear fuel forms for use in a nuclear thermal rocket (NTR). This will be completed through the identification and qualification of nuclear fuel form property data using non-nuclear testing. ', 'urls': ['https://catalog.data.gov/dataset/advanced-fuel-forms-for-nuclear-thermal-propulsion-applications'] } )\n",
    "\n",
    "coll.insert ( { 'topic':'Nuclear Energy', 'title': 'Operating Experience Feedback (OEF) records', 'license': 'Public domain', 'description': 'This is the core content of the information system as they refer to operating experience feedback. The objective of this content type is to make available and disseminate relevant information and lessons learned acquired from operating experience in order to improve the safety of nuclear power plants.', 'urls': ['https://data.jrc.ec.europa.eu/dataset/jrc-ch-oef-oef-dataset'] } )\n",
    "\n",
    "coll.insert ( { 'topic':'Nuclear Energy', 'title': 'Nuclear safety opinions in the Unite Kingdom (UK) 2016-2019', 'license': 'Public domain', 'description': 'This statistic shows the views of respondents to the Department for Business, Energy & Industrial Strategy (BEIS) Energy and Climate Change Public Attitude Tracking Survey, as to the safety concerns of nuclear energy in the United Kingdom (UK) from 2016 to 2019. Of those interviewed, 34 percent agreed that nuclear energy provides a safe source of energy. ', 'urls': ['https://static3.statista.com/statistics/971191/nuclear-energy-safety-opinions-united-kingdom-uk/'] } )\n",
    "\n",
    "coll.insert ( { 'topic':'Nuclear Energy', 'title': 'NPP identified issues since 1978', 'license': 'Public domain', 'description': 'A comprehensive record of the status of issues identified since 1978, which involve public health and safety, the common defense and security, or the environment, and which could affect multiple entities under NRC jurisdiction.', 'urls': ['https://data.world/us-nrc-gov/d18a8494-076d-4957-add4-c00fd902e3ad'] } )\n",
    "\n",
    "coll.insert ( { 'topic':'Nuclear Energy', 'title': 'California poll on nuclear power', 'license': 'Public domain', 'description': 'This survey covers the following issues and topics: Importance of more nuclear power plants; safety regulations of nuclear power plants as criteria for their continued operation; construction of new plants', 'urls': ['https://datamed.org/display-item.php?repository=0012&id=56d4b7bfe4b0e644d312ac6b&query='] } )\n"
   ]
  },
  {
   "cell_type": "code",
   "execution_count": 1,
   "metadata": {},
   "outputs": [
    {
     "name": "stdout",
     "output_type": "stream",
     "text": [
      "{'_id': ObjectId('5d7e6769e1eaff62f15de0d2'),\n",
      " 'description': 'The list of projects on github with the '\n",
      "                'largest number of starts',\n",
      " 'first dataset': 'largest projects',\n",
      " 'license': 'NA',\n",
      " 'topic': 'git URLs',\n",
      " 'urls': ['url1', 'url2']}\n",
      "{'_id': ObjectId('5d7edc7c995d246453e1025b'),\n",
      " 'description': 'The list of projects on github with the '\n",
      "                'largest number of starts',\n",
      " 'first dataset': 'largest projects',\n",
      " 'license': 'NA',\n",
      " 'topic': 'git URLs',\n",
      " 'urls': ['url1', 'url2']}\n",
      "{'_id': ObjectId('5d81827493569c62818e7979'),\n",
      " 'description': 'The list of projects on github with the '\n",
      "                'largest number of starts',\n",
      " 'first dataset': 'largest projects',\n",
      " 'license': 'NA',\n",
      " 'topic': 'git URLs',\n",
      " 'urls': ['url1', 'url2']}\n",
      "{'_id': ObjectId('5d8193ebd4732fb4def4810e'),\n",
      " 'description': 'The list of projects on github with the '\n",
      "                'largest number of starts',\n",
      " 'first dataset': 'largest projects',\n",
      " 'license': 'NA',\n",
      " 'topic': 'git URLs',\n",
      " 'urls': ['https://www.kaggle.com/carolzhangdc/imdb-5000-movie-dataset#movie_metadata.csv']}\n",
      "{'_id': ObjectId('5d81940ed4732fb4def48110'),\n",
      " 'description': 'The list of projects on github with the '\n",
      "                'largest number of starts',\n",
      " 'first dataset': 'largest projects',\n",
      " 'license': 'NA',\n",
      " 'topic': 'git URLs',\n",
      " 'urls': ['https://www.kaggle.com/carolzhangdc/imdb-5000-movie-dataset#movie_metadata.csv']}\n",
      "{'_id': ObjectId('5d819429d4732fb4def48112'),\n",
      " 'description': 'The list of projects on github with the '\n",
      "                'largest number of starts',\n",
      " 'first dataset': 'largest projects',\n",
      " 'license': 'NA',\n",
      " 'topic': 'IMDB dataset',\n",
      " 'urls': ['https://www.kaggle.com/carolzhangdc/imdb-5000-movie-dataset#movie_metadata.csv']}\n",
      "{'_id': ObjectId('5d824e392d00ba0dda2b8223'),\n",
      " 'description': 'The list of projects on github with the '\n",
      "                'largest number of starts',\n",
      " 'first dataset': 'largest projects',\n",
      " 'license': 'NA',\n",
      " 'topic': 'git URLs',\n",
      " 'urls': ['url1', 'url2']}\n",
      "{'_id': ObjectId('5d84e383e2fb382bffecc36a'),\n",
      " 'description': 'The list of projects on github with the '\n",
      "                'largest number of starts',\n",
      " 'first dataset': 'largest projects',\n",
      " 'license': 'NA',\n",
      " 'topic': 'git URLs',\n",
      " 'urls': ['url1', 'url2']}\n"
     ]
    }
   ],
   "source": [
    "import pprint\n",
    "import pymongo, json\n",
    "client = pymongo.MongoClient (host=\"da1.eecs.utk.edu\")\n",
    "db = client ['fdac19mp2']\n",
    "coll = db ['tbeck4']\n",
    "pp = pprint.PrettyPrinter(indent=1,width=65)\n",
    "for r in coll. find():\n",
    "  print(pp .pformat (r))  "
   ]
  },
  {
   "cell_type": "code",
   "execution_count": null,
   "metadata": {
    "collapsed": true
   },
   "outputs": [],
   "source": []
  }
 ],
 "metadata": {
  "kernelspec": {
   "display_name": "Python 3",
   "language": "python",
   "name": "python3"
  },
  "language_info": {
   "codemirror_mode": {
    "name": "ipython",
    "version": 3
   },
   "file_extension": ".py",
   "mimetype": "text/x-python",
   "name": "python",
   "nbconvert_exporter": "python",
   "pygments_lexer": "ipython3",
   "version": "3.6.7"
  }
 },
 "nbformat": 4,
 "nbformat_minor": 1
}
