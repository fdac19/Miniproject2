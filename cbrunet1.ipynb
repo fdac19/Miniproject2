{
 "cells": [
  {
   "cell_type": "code",
   "execution_count": 1,
   "metadata": {},
   "outputs": [
    {
     "data": {
      "text/plain": [
       "<pymongo.results.InsertOneResult at 0x7fdcc8b36f08>"
      ]
     },
     "execution_count": 1,
     "metadata": {},
     "output_type": "execute_result"
    }
   ],
   "source": [
    "import pprint\n",
    "import re\n",
    "import pymongo, json\n",
    "\n",
    "pp = pprint.PrettyPrinter(indent=1,width=65)\n",
    "\n",
    "client = pymongo.MongoClient (host=\"da1.eecs.utk.edu\")\n",
    "db = client ['fdac19mp2']\n",
    "coll = db ['cbrunet1']\n",
    "\n",
    "# for each dataset\n",
    "coll.insert_one ( { 'topic':'Comic Repos', 'first dataset': 'Over all comics', 'license': 'NA', 'description': 'Repos that will hold various different comics', 'urls': [ 'https://www.kaggle.com/cenkbircanoglu/comic-books-classification', 'https://www.kaggle.com/claudiodavi/superhero-set', 'https://readcomicsonline.ru/', 'https://getcomics.info/', 'https://readcomiconline.to/', 'https://www.comicextra.com/', 'https://comiconlinefree.com/'] } )\n"
   ]
  },
  {
   "cell_type": "code",
   "execution_count": 3,
   "metadata": {},
   "outputs": [
    {
     "name": "stdout",
     "output_type": "stream",
     "text": [
      "{'_id': ObjectId('5d7e6769e1eaff62f15de0d2'),\n",
      " 'description': 'The list of projects on github with the '\n",
      "                'largest number of starts',\n",
      " 'first dataset': 'largest projects',\n",
      " 'license': 'NA',\n",
      " 'topic': 'git URLs',\n",
      " 'urls': ['url1', 'url2']}\n"
     ]
    }
   ],
   "source": [
    "import pprint\n",
    "import pymongo, json\n",
    "client = pymongo.MongoClient (host=\"da1.eecs.utk.edu\")\n",
    "db = client ['fdac19mp2']\n",
    "coll = db ['audris']\n",
    "pp = pprint.PrettyPrinter(indent=1,width=65)\n",
    "for r in coll. find():\n",
    "  print(pp .pformat (r))  "
   ]
  },
  {
   "cell_type": "code",
   "execution_count": null,
   "metadata": {
    "collapsed": true
   },
   "outputs": [],
   "source": []
  }
 ],
 "metadata": {
  "kernelspec": {
   "display_name": "Python 3",
   "language": "python",
   "name": "python3"
  },
  "language_info": {
   "codemirror_mode": {
    "name": "ipython",
    "version": 3
   },
   "file_extension": ".py",
   "mimetype": "text/x-python",
   "name": "python",
   "nbconvert_exporter": "python",
   "pygments_lexer": "ipython3",
   "version": "3.6.7"
  }
 },
 "nbformat": 4,
 "nbformat_minor": 1
}
