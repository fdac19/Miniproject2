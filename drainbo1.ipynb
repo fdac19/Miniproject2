{
 "cells": [
  {
   "cell_type": "code",
   "execution_count": 1,
   "metadata": {},
   "outputs": [
    {
     "data": {
      "text/plain": [
       "<pymongo.results.InsertOneResult at 0x7f7858054988>"
      ]
     },
     "execution_count": 1,
     "metadata": {},
     "output_type": "execute_result"
    }
   ],
   "source": [
    "import pprint\n",
    "import re\n",
    "import pymongo, json\n",
    "\n",
    "pp = pprint.PrettyPrinter(indent=1,width=65)\n",
    "\n",
    "client = pymongo.MongoClient (host=\"da1.eecs.utk.edu\")\n",
    "db = client ['fdac19mp2']\n",
    "coll = db ['drainbo1']\n",
    "# for each dataset\n",
    "coll.insert_one ( { 'topic':'murder stats', 'first dataset': 'Us Homicide', 'license': 'NA', 'description': 'A graphical display of the number of murders in each state', 'urls': [ 'https://www.statista.com/statistics/195331/number-of-murders-in-the-us-by-state/' ] } )\n",
    "coll.insert_one ( { 'topic':'murder stats', 'first dataset': 'Murder in The Netherlands', 'license': 'http://creativecommons.org/licenses/by/4.0/deed.nl', 'description': 'Table on number of people that died and where the crime scene was', 'urls': [ 'https://data.overheid.nl/dataset/56739-deaths--murder-and-manslaughter--crime-scene-in-the-netherlands' ] } )\n",
    "coll.insert_one ( { 'topic':'murder stats', 'first dataset': 'Murder offenders by age', 'license': 'NA', 'description': 'The is displays the total number of murders by age group', 'urls': [ 'https://www.statista.com/statistics/251884/murder-offenders-in-the-us-by-age/' ] } )\n",
    "coll.insert_one ( { 'topic':'murder stats', 'first dataset': 'Murder in Big Cities', 'license': 'NA', 'description': 'displays murder stats for cities over 250,000 residents', 'urls': [ 'https://data.world/sya/murder-stats-in-big-us-cities' ] } )\n",
    "coll.insert_one ( { 'topic':'murder stats', 'first dataset': 'Maxwell-Preller Murder Case', 'license': 'NA', 'description': 'Provides specific data on the named murder case', 'urls': [ 'https://mohistory.org/collections/item/resource:104362' ] } )\n",
    "coll.insert_one ( { 'topic':'murder stats', 'first dataset': 'Murder and relationship to vicitm', 'license': 'NA', 'description': 'Displays murder victims in US by relation of offender to victim', 'urls': [ 'https://www.statista.com/statistics/195327/murder-in-the-us-by-relationship-of-victim-to-offender/' ] } )\n",
    "coll.insert_one ( { 'topic':'murder stats', 'first dataset': 'Urban Cities Data, 1988', 'license': 'https://www.icpsr.umich.edu/icpsrweb/ICPSR/studies/9907/terms', 'description': 'Murder data from 33 Large Urban CIties', 'urls': [ 'https://www.icpsr.umich.edu/icpsrweb/RCMD/studies/9907' ] } )\n",
    "coll.insert_one ( { 'topic':'murder stats', 'first dataset': 'Us Homicide Reports 1980-2014', 'license': 'CC BY-SA 4.0', 'description': 'Complete set of murder data in specified time range', 'urls': [ 'https://www.kaggle.com/murderaccountability/homicide-reports' ] } )\n",
    "coll.insert_one ( { 'topic':'murder stats', 'first dataset': 'Sentencing in Georgia', 'license': 'https://www.icpsr.umich.edu/icpsrweb/ICPSR/studies/9264/terms', 'description': 'Data on Charging and Sentencing for murders in Georgia 1973-1979', 'urls': [ 'https://www.icpsr.umich.edu//icpsrweb/ICPSR/studies/9264' ] } )\n",
    "coll.insert_one ( { 'topic':'murder stats', 'first dataset': 'Domestic Violence: murder', 'license': 'Open Government Licence', 'description': 'Number of homicides that result from domestic violence', 'urls': [ 'https://data.gov.uk/dataset/2b568507-38c9-4eed-acb2-cceab8b4cd68/ni-034-domestic-violence-murder' ] } )\n",
    "coll.insert_one ( { 'topic':'murder stats', 'first dataset': 'Us Murder by race and gender', 'license': 'NA', 'description': 'Murder stats by race and gender', 'urls': [ 'https://www.statista.com/statistics/251877/murder-victims-in-the-us-by-race-ethnicity-and-gender/' ] } )\n",
    "coll.insert_one ( { 'topic':'murder stats', 'first dataset': 'Media coverage', 'license': 'NA', 'description': 'Differences in presentation from local newspaper and television coverage of murder investigations', 'urls': [ 'https://methods.sagepub.com/dataset/content-analysis-newspaper-television-reporting-crime' ] } )\n",
    "coll.insert_one ( { 'topic':'murder stats', 'first dataset': 'Us Homicide: weapons', 'license': 'NA', 'description': 'A graphical display of the number of murders by weapon', 'urls': [ 'https://www.statista.com/statistics/195325/murder-victims-in-the-us-by-weapon-used/' ] } )\n",
    "coll.insert_one ( { 'topic':'murder stats', 'first dataset': 'Police stations', 'license': 'NA', 'description': 'Display of police stations that deal with highest murder rates', 'urls': [ 'https://africaopendata.org/dataset/first-in-line-for-murder-police-stations-with-highest-murder-rates' ] } )\n",
    "coll.insert_one ( { 'topic':'murder stats', 'first dataset': 'Us Homicide:Texas', 'license': 'https://www.icpsr.umich.edu/icpsrweb/ICPSR/studies/3263/terms', 'description': 'Studies influence of justice systemm on individuals who have lost loved ones', 'urls': [ 'https://www.icpsr.umich.edu/icpsrweb/ICPSR/studies/3263' ] } )\n",
    "coll.insert_one ( { 'topic':'murder stats', 'first dataset': '2016 Murder', 'license': 'CC-BY', 'description': 'Comprehensive data for 2016 Homicide rats', 'urls': [ 'https://data.world/fivethirtyeight/murder-2016' ] } )\n",
    "coll.insert_one ( { 'topic':'murder stats', 'first dataset': 'Murder Family Reconciliation', 'license': 'NA', 'description': 'tax returns of those that have filed for reconciliation', 'urls': [ 'https://projects.propublica.org/nonprofits/organizations/161420468' ] } )\n",
    "coll.insert_one ( { 'topic':'murder stats', 'first dataset': 'London Homicide', 'license': 'NA', 'description': 'A graphical display of the number of murders in London', 'urls': [ 'https://www.statista.com/statistics/862984/murders-in-london/' ] } )\n",
    "coll.insert_one ( { 'topic':'murder stats', 'first dataset': 'Murder suicide', 'license': 'NA', 'description': 'number of murder suicides in 1953', 'urls': [ 'https://search.datacite.org/works/10.25549/examiner-m24812' ] } )\n",
    "coll.insert_one ( { 'topic':'murder stats', 'first dataset': 'Age/Race specific crime rates', 'license': 'https://www.icpsr.umich.edu/icpsrweb/ICPSR/studies/9589/terms', 'description': 'US murder rates by specific crime, race, age in 1965-1985', 'urls': [ 'https://www.icpsr.umich.edu/icpsrweb/RCMD/studies/9589' ] } )\n",
    "\n"
   ]
  },
  {
   "cell_type": "code",
   "execution_count": 3,
   "metadata": {},
   "outputs": [
    {
     "name": "stdout",
     "output_type": "stream",
     "text": [
      "{'_id': ObjectId('5d7e6769e1eaff62f15de0d2'),\n",
      " 'description': 'The list of projects on github with the '\n",
      "                'largest number of starts',\n",
      " 'first dataset': 'largest projects',\n",
      " 'license': 'NA',\n",
      " 'topic': 'git URLs',\n",
      " 'urls': ['url1', 'url2']}\n"
     ]
    }
   ],
   "source": [
    "import pprint\n",
    "import pymongo, json\n",
    "client = pymongo.MongoClient (host=\"da1.eecs.utk.edu\")\n",
    "db = client ['fdac19mp2']\n",
    "coll = db ['drainbo1']\n",
    "pp = pprint.PrettyPrinter(indent=1,width=65)\n",
    "for r in coll. find():\n",
    "  print(pp .pformat (r))  "
   ]
  },
  {
   "cell_type": "code",
   "execution_count": null,
   "metadata": {
    "collapsed": true
   },
   "outputs": [],
   "source": []
  }
 ],
 "metadata": {
  "kernelspec": {
   "display_name": "Python 3",
   "language": "python",
   "name": "python3"
  },
  "language_info": {
   "codemirror_mode": {
    "name": "ipython",
    "version": 3
   },
   "file_extension": ".py",
   "mimetype": "text/x-python",
   "name": "python",
   "nbconvert_exporter": "python",
   "pygments_lexer": "ipython3",
   "version": "3.6.7"
  }
 },
 "nbformat": 4,
 "nbformat_minor": 1
}
